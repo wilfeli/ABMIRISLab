{
 "cells": [
  {
   "cell_type": "code",
   "execution_count": null,
   "metadata": {
    "collapsed": true
   },
   "outputs": [],
<<<<<<< HEAD
   "source": [
    "%%writefile tools.py\n",
    "#column names\n",
    "def print_columns(dataframe):\n",
    "    i = 0\n",
    "    for column in dataframe.columns:\n",
    "        print((i, column))\n",
    "        i += 1"
   ]
=======
   "source": []
>>>>>>> 9fadf023062505cb443534457ab9d4d3cc1b7bfc
  },
  {
   "cell_type": "code",
   "execution_count": null,
   "metadata": {
    "collapsed": true
   },
   "outputs": [],
   "source": [
    "#get series from dataframe\n"
   ]
  },
  {
   "cell_type": "code",
   "execution_count": null,
   "metadata": {
    "collapsed": true
   },
   "outputs": [],
   "source": [
    "#shape of a dataframe to get number of rows and columns\n",
    "df.shape"
   ]
  }
 ],
 "metadata": {
  "kernelspec": {
   "display_name": "Python 3",
   "language": "python",
   "name": "python3"
  },
  "language_info": {
   "codemirror_mode": {
    "name": "ipython",
    "version": 3
   },
   "file_extension": ".py",
   "mimetype": "text/x-python",
   "name": "python",
   "nbconvert_exporter": "python",
   "pygments_lexer": "ipython3",
   "version": "3.5.0"
  }
 },
 "nbformat": 4,
 "nbformat_minor": 0
}
