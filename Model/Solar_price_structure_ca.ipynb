{
 "cells": [
  {
   "cell_type": "code",
   "execution_count": null,
   "metadata": {
    "collapsed": true
   },
   "outputs": [],
   "source": [
    "import pandas as pd\n",
    "import numpy as np\n",
    "%matplotlib inline\n",
    "import matplotlib.pyplot as plt\n",
    "import matplotlib\n",
    "matplotlib.style.use('ggplot')\n",
    "#ols models\n",
    "import statsmodels.formula.api as sm\n",
    "from patsy import dmatrices\n",
    "import re\n",
    "import scipy as sp"
   ]
  },
  {
   "cell_type": "code",
   "execution_count": null,
   "metadata": {
    "collapsed": true
   },
   "outputs": [],
   "source": [
    "#column names\n",
    "def print_columns(dataframe):\n",
    "    i = 0\n",
    "    for column in dataframe.columns:\n",
    "        print((i, column))\n",
    "        i += 1"
   ]
  },
  {
   "cell_type": "code",
   "execution_count": null,
   "metadata": {
    "collapsed": true
   },
   "outputs": [],
   "source": [
    "#read data\n",
    "df_full = pd.read_csv(\"../../Data/NEM_CurrentlyInterconnectedDataset_2016-03-31.csv\", low_memory=False)"
   ]
  },
  {
   "cell_type": "code",
   "execution_count": null,
   "metadata": {
    "collapsed": false
   },
   "outputs": [],
   "source": [
    "#get year from date\n",
    "df_full.ix[:,15] =  pd.to_datetime(df_full.ix[:,15], infer_datetime_format=True)\n",
    "df_full['App Complete Date Year'] = df_full.ix[:,15].dt.year\n",
    "df_full.columns = df_full.columns.str.replace(' ','_')\n",
    "df_full = df_full[(df_full.T != 0).all()]"
   ]
  },
  {
   "cell_type": "code",
   "execution_count": null,
   "metadata": {
    "collapsed": false
   },
   "outputs": [],
   "source": [
    "print_columns(df_full)"
   ]
  },
  {
   "cell_type": "code",
   "execution_count": null,
   "metadata": {
    "collapsed": false
   },
   "outputs": [],
   "source": [
    "df = df_full[(df_full['App_Complete_Date_Year'] > 2014) & (df_full['Total_System_Cost'] > 0.0)]\n",
    "df['Installer_Name_clear'] = df['Installer_Name']"
   ]
  },
  {
   "cell_type": "code",
   "execution_count": null,
   "metadata": {
    "collapsed": false
   },
   "outputs": [],
   "source": [
    "df.shape"
   ]
  },
  {
   "cell_type": "code",
   "execution_count": null,
   "metadata": {
    "collapsed": false
   },
   "outputs": [],
   "source": [
    "df['Customer_Sector'].value_counts()"
   ]
  },
  {
   "cell_type": "code",
   "execution_count": null,
   "metadata": {
    "collapsed": true
   },
   "outputs": [],
   "source": [
    "#create dummies for companies\n",
    "def company_dummy(row, templ, name):\n",
    "    if not pd.isnull(row['Installer_Name_clear']):\n",
    "        if templ.search(row['Installer_Name_clear']):\n",
    "            val = name\n",
    "        else:\n",
    "            val = row['Installer_Name_clear']\n",
    "    else:\n",
    "        val = row['Installer_Name_clear']\n",
    "    return val"
   ]
  },
  {
   "cell_type": "code",
   "execution_count": null,
   "metadata": {
    "collapsed": true
   },
   "outputs": [],
   "source": [
    "#regexes to clean installer names"
   ]
  },
  {
   "cell_type": "code",
   "execution_count": null,
   "metadata": {
    "collapsed": false
   },
   "outputs": [],
   "source": [
    "company_regex = r'SolarCity'\n",
    "replace_name = 'SolarCity Corporation'\n",
    "p = re.compile(company_regex, re.IGNORECASE)\n",
    "df['Installer_Name_clear'] = df.apply (lambda row: company_dummy (row, p, replace_name),axis=1)"
   ]
  },
  {
   "cell_type": "code",
   "execution_count": null,
   "metadata": {
    "collapsed": false
   },
   "outputs": [],
   "source": [
    "company_regex = r'SunPower'\n",
    "replace_name = 'SunPower Corporation'\n",
    "p = re.compile(company_regex, re.IGNORECASE)\n",
    "df['Installer_Name_clear'] = df.apply (lambda row: company_dummy (row, p, replace_name),axis=1)"
   ]
  },
  {
   "cell_type": "code",
   "execution_count": null,
   "metadata": {
    "collapsed": false
   },
   "outputs": [],
   "source": [
    "company_regex = r'Sunrun'\n",
    "replace_name = 'Sunrun Installation Services, Inc'\n",
    "p = re.compile(company_regex, re.IGNORECASE)\n",
    "df['Installer_Name_clear'] = df.apply (lambda row: company_dummy (row, p, replace_name),axis=1)"
   ]
  },
  {
   "cell_type": "code",
   "execution_count": null,
   "metadata": {
    "collapsed": false
   },
   "outputs": [],
   "source": [
    "company_regex = r'Petersen\\s+Dean'\n",
    "replace_name = 'Petersen Dean Roofing & Solar Systems'\n",
    "p = re.compile(company_regex, re.IGNORECASE)\n",
    "df['Installer_Name_clear'] = df.apply (lambda row: company_dummy (row, p, replace_name),axis=1)"
   ]
  },
  {
   "cell_type": "code",
   "execution_count": null,
   "metadata": {
    "collapsed": false
   },
   "outputs": [],
   "source": [
    "company_regex = r'Semper Solaris'\n",
    "replace_name = 'Semper Solaris Construction Inc'\n",
    "p = re.compile(company_regex, re.IGNORECASE)\n",
    "df['Installer_Name_clear'] = df.apply (lambda row: company_dummy (row, p, replace_name),axis=1)"
   ]
  },
  {
   "cell_type": "code",
   "execution_count": null,
   "metadata": {
    "collapsed": true
   },
   "outputs": [],
   "source": [
    "#Solarcity , Luminalt, RGS Energy, Vivint - biggest installers "
   ]
  },
  {
   "cell_type": "code",
   "execution_count": null,
   "metadata": {
    "collapsed": false
   },
   "outputs": [],
   "source": [
    "df['Installer_Name_clear'] = df.apply (lambda row: company_dummy (row, p, replace_name),axis=1)"
   ]
  },
  {
   "cell_type": "code",
   "execution_count": null,
   "metadata": {
    "collapsed": false
   },
   "outputs": [],
   "source": [
    "df['Installer_Name_clear'].value_counts()"
   ]
  },
  {
   "cell_type": "code",
   "execution_count": null,
   "metadata": {
    "collapsed": true
   },
   "outputs": [],
   "source": [
    "df_short = df[['Total_System_Cost', 'System_Size_DC', 'System_Size_AC', 'Installer_Name_clear']]"
   ]
  },
  {
   "cell_type": "code",
   "execution_count": null,
   "metadata": {
    "collapsed": false
   },
   "outputs": [],
   "source": [
    "df_short = df_short[(df['Customer_Sector'] == 'Residential')]"
   ]
  },
  {
   "cell_type": "code",
   "execution_count": null,
   "metadata": {
    "collapsed": false
   },
   "outputs": [],
   "source": [
    "df_short['Count'] = 1"
   ]
  },
  {
   "cell_type": "code",
   "execution_count": null,
   "metadata": {
    "collapsed": false
   },
   "outputs": [],
   "source": [
    "df_short['Price_Per_Watt'] = df_short['Total_System_Cost']/df_short['System_Size_AC']/1000\n",
    "df_short = df_short[df_short['Price_Per_Watt'] > 1.0]"
   ]
  },
  {
   "cell_type": "code",
   "execution_count": null,
   "metadata": {
    "collapsed": false
   },
   "outputs": [],
   "source": [
    "df_short['key1'] = df_short.groupby('Installer_Name_clear')['Count'].transform('sum')"
   ]
  },
  {
   "cell_type": "code",
   "execution_count": null,
   "metadata": {
    "collapsed": false
   },
   "outputs": [],
   "source": [
    "df_short = df_short.sort_values(['key1'], ascending=[False])"
   ]
  },
  {
   "cell_type": "code",
   "execution_count": null,
   "metadata": {
    "collapsed": true
   },
   "outputs": [],
   "source": [
    "grouped = df_short.groupby('Installer_Name_clear', sort=False)"
   ]
  },
  {
   "cell_type": "code",
   "execution_count": null,
   "metadata": {
    "collapsed": false
   },
   "outputs": [],
   "source": [
    "df_agg = grouped.agg({'Total_System_Cost' : np.mean,\\\n",
    "             'System_Size_AC' : np.mean, \\\n",
    "            'Count' : np.sum, \\\n",
    "            'Price_Per_Watt' : np.mean})"
   ]
  },
  {
   "cell_type": "code",
   "execution_count": null,
   "metadata": {
    "collapsed": false
   },
   "outputs": [],
   "source": [
    "df_agg_top = df_agg[0:100]"
   ]
  },
  {
   "cell_type": "code",
   "execution_count": 118,
   "metadata": {
    "collapsed": false
   },
   "outputs": [
    {
     "data": {
      "text/html": [
       "<div>\n",
       "<table border=\"1\" class=\"dataframe\">\n",
       "  <thead>\n",
       "    <tr style=\"text-align: right;\">\n",
       "      <th></th>\n",
       "      <th>Total_System_Cost</th>\n",
       "      <th>Price_Per_Watt</th>\n",
       "      <th>Count</th>\n",
       "      <th>System_Size_AC</th>\n",
       "    </tr>\n",
       "    <tr>\n",
       "      <th>Installer_Name_clear</th>\n",
       "      <th></th>\n",
       "      <th></th>\n",
       "      <th></th>\n",
       "      <th></th>\n",
       "    </tr>\n",
       "  </thead>\n",
       "  <tbody>\n",
       "    <tr>\n",
       "      <th>SolarCity Corporation</th>\n",
       "      <td>33280.370432</td>\n",
       "      <td>7.527875</td>\n",
       "      <td>3868</td>\n",
       "      <td>4.746334</td>\n",
       "    </tr>\n",
       "    <tr>\n",
       "      <th>SunPower Corporation</th>\n",
       "      <td>9344.309938</td>\n",
       "      <td>4.281437</td>\n",
       "      <td>1451</td>\n",
       "      <td>2.237863</td>\n",
       "    </tr>\n",
       "    <tr>\n",
       "      <th>Petersen Dean Roofing &amp; Solar Systems</th>\n",
       "      <td>27949.343337</td>\n",
       "      <td>5.005716</td>\n",
       "      <td>1007</td>\n",
       "      <td>5.727268</td>\n",
       "    </tr>\n",
       "    <tr>\n",
       "      <th>Sunrun Installation Services, Inc</th>\n",
       "      <td>24945.874531</td>\n",
       "      <td>4.409633</td>\n",
       "      <td>746</td>\n",
       "      <td>5.797628</td>\n",
       "    </tr>\n",
       "    <tr>\n",
       "      <th>Semper Solaris Construction Inc</th>\n",
       "      <td>28486.149758</td>\n",
       "      <td>5.191150</td>\n",
       "      <td>621</td>\n",
       "      <td>5.542386</td>\n",
       "    </tr>\n",
       "    <tr>\n",
       "      <th>Sullivan Solar Power</th>\n",
       "      <td>31803.345241</td>\n",
       "      <td>5.260244</td>\n",
       "      <td>498</td>\n",
       "      <td>6.148213</td>\n",
       "    </tr>\n",
       "    <tr>\n",
       "      <th>Verengo</th>\n",
       "      <td>26496.918034</td>\n",
       "      <td>5.030526</td>\n",
       "      <td>473</td>\n",
       "      <td>5.576059</td>\n",
       "    </tr>\n",
       "    <tr>\n",
       "      <th>Grid Alternatives</th>\n",
       "      <td>17374.534488</td>\n",
       "      <td>5.431064</td>\n",
       "      <td>410</td>\n",
       "      <td>3.342524</td>\n",
       "    </tr>\n",
       "    <tr>\n",
       "      <th>Zero Energy Associates</th>\n",
       "      <td>25183.271949</td>\n",
       "      <td>17.499276</td>\n",
       "      <td>395</td>\n",
       "      <td>2.140973</td>\n",
       "    </tr>\n",
       "    <tr>\n",
       "      <th>American Solar Direct Inc</th>\n",
       "      <td>27531.638780</td>\n",
       "      <td>5.465480</td>\n",
       "      <td>369</td>\n",
       "      <td>5.146436</td>\n",
       "    </tr>\n",
       "    <tr>\n",
       "      <th>SolarMax Renewable Energy Provider, Inc</th>\n",
       "      <td>28202.009061</td>\n",
       "      <td>4.636942</td>\n",
       "      <td>362</td>\n",
       "      <td>6.369732</td>\n",
       "    </tr>\n",
       "    <tr>\n",
       "      <th>Baker Electric, Inc.</th>\n",
       "      <td>32199.871972</td>\n",
       "      <td>4.898342</td>\n",
       "      <td>289</td>\n",
       "      <td>6.663913</td>\n",
       "    </tr>\n",
       "    <tr>\n",
       "      <th>Enver Energy</th>\n",
       "      <td>33252.257463</td>\n",
       "      <td>7.267900</td>\n",
       "      <td>268</td>\n",
       "      <td>4.710494</td>\n",
       "    </tr>\n",
       "    <tr>\n",
       "      <th>Sungevity Inc</th>\n",
       "      <td>20695.719036</td>\n",
       "      <td>4.163251</td>\n",
       "      <td>249</td>\n",
       "      <td>5.052815</td>\n",
       "    </tr>\n",
       "    <tr>\n",
       "      <th>A1 Solar Power Inc</th>\n",
       "      <td>33517.022165</td>\n",
       "      <td>8.094825</td>\n",
       "      <td>231</td>\n",
       "      <td>4.214991</td>\n",
       "    </tr>\n",
       "    <tr>\n",
       "      <th>LA Solar Group</th>\n",
       "      <td>38424.929450</td>\n",
       "      <td>6.533754</td>\n",
       "      <td>200</td>\n",
       "      <td>6.941815</td>\n",
       "    </tr>\n",
       "    <tr>\n",
       "      <th>Future Energy Corporation</th>\n",
       "      <td>78493.930939</td>\n",
       "      <td>16.288649</td>\n",
       "      <td>181</td>\n",
       "      <td>4.889132</td>\n",
       "    </tr>\n",
       "    <tr>\n",
       "      <th>Energy Remodeling</th>\n",
       "      <td>31326.300667</td>\n",
       "      <td>8.427960</td>\n",
       "      <td>180</td>\n",
       "      <td>3.784633</td>\n",
       "    </tr>\n",
       "    <tr>\n",
       "      <th>REC Solar, Inc.</th>\n",
       "      <td>21775.537037</td>\n",
       "      <td>4.179845</td>\n",
       "      <td>162</td>\n",
       "      <td>5.266784</td>\n",
       "    </tr>\n",
       "    <tr>\n",
       "      <th>Solcius</th>\n",
       "      <td>28181.300884</td>\n",
       "      <td>5.659812</td>\n",
       "      <td>147</td>\n",
       "      <td>5.094605</td>\n",
       "    </tr>\n",
       "    <tr>\n",
       "      <th>Horizon Solar Power</th>\n",
       "      <td>44719.272837</td>\n",
       "      <td>7.321415</td>\n",
       "      <td>141</td>\n",
       "      <td>6.380092</td>\n",
       "    </tr>\n",
       "    <tr>\n",
       "      <th>Stellar Solar</th>\n",
       "      <td>28538.045113</td>\n",
       "      <td>5.078185</td>\n",
       "      <td>133</td>\n",
       "      <td>5.739045</td>\n",
       "    </tr>\n",
       "    <tr>\n",
       "      <th>ASI Hastings, Inc</th>\n",
       "      <td>24738.238462</td>\n",
       "      <td>4.839609</td>\n",
       "      <td>130</td>\n",
       "      <td>5.679700</td>\n",
       "    </tr>\n",
       "    <tr>\n",
       "      <th>Solar Service Center</th>\n",
       "      <td>21829.312177</td>\n",
       "      <td>4.159879</td>\n",
       "      <td>124</td>\n",
       "      <td>5.337831</td>\n",
       "    </tr>\n",
       "    <tr>\n",
       "      <th>Solar Universe</th>\n",
       "      <td>46276.801048</td>\n",
       "      <td>8.642039</td>\n",
       "      <td>124</td>\n",
       "      <td>6.290033</td>\n",
       "    </tr>\n",
       "    <tr>\n",
       "      <th>Green Convergence</th>\n",
       "      <td>37293.408333</td>\n",
       "      <td>6.523714</td>\n",
       "      <td>120</td>\n",
       "      <td>5.769533</td>\n",
       "    </tr>\n",
       "    <tr>\n",
       "      <th>Precis Solar</th>\n",
       "      <td>32618.954955</td>\n",
       "      <td>5.804872</td>\n",
       "      <td>111</td>\n",
       "      <td>5.659018</td>\n",
       "    </tr>\n",
       "    <tr>\n",
       "      <th>Planet Solar Inc</th>\n",
       "      <td>37618.973874</td>\n",
       "      <td>5.073382</td>\n",
       "      <td>111</td>\n",
       "      <td>7.321126</td>\n",
       "    </tr>\n",
       "    <tr>\n",
       "      <th>Galkos Construction</th>\n",
       "      <td>27400.995234</td>\n",
       "      <td>5.375539</td>\n",
       "      <td>107</td>\n",
       "      <td>5.447710</td>\n",
       "    </tr>\n",
       "    <tr>\n",
       "      <th>Hot Purple Energy</th>\n",
       "      <td>50057.500000</td>\n",
       "      <td>5.891274</td>\n",
       "      <td>106</td>\n",
       "      <td>9.115547</td>\n",
       "    </tr>\n",
       "    <tr>\n",
       "      <th>...</th>\n",
       "      <td>...</td>\n",
       "      <td>...</td>\n",
       "      <td>...</td>\n",
       "      <td>...</td>\n",
       "    </tr>\n",
       "    <tr>\n",
       "      <th>Urban Energy Solar</th>\n",
       "      <td>33548.278936</td>\n",
       "      <td>5.567315</td>\n",
       "      <td>47</td>\n",
       "      <td>6.073596</td>\n",
       "    </tr>\n",
       "    <tr>\n",
       "      <th>Natural Energy</th>\n",
       "      <td>27307.319149</td>\n",
       "      <td>4.929888</td>\n",
       "      <td>47</td>\n",
       "      <td>5.635170</td>\n",
       "    </tr>\n",
       "    <tr>\n",
       "      <th>Revco Solar Engineering Inc</th>\n",
       "      <td>37115.913043</td>\n",
       "      <td>6.702431</td>\n",
       "      <td>46</td>\n",
       "      <td>6.106130</td>\n",
       "    </tr>\n",
       "    <tr>\n",
       "      <th>Sungevity</th>\n",
       "      <td>26166.666667</td>\n",
       "      <td>4.691142</td>\n",
       "      <td>45</td>\n",
       "      <td>5.145052</td>\n",
       "    </tr>\n",
       "    <tr>\n",
       "      <th>Green NRG</th>\n",
       "      <td>29762.700222</td>\n",
       "      <td>6.628540</td>\n",
       "      <td>45</td>\n",
       "      <td>4.587537</td>\n",
       "    </tr>\n",
       "    <tr>\n",
       "      <th>Solar West Electric, Inc.</th>\n",
       "      <td>24856.088889</td>\n",
       "      <td>5.231634</td>\n",
       "      <td>45</td>\n",
       "      <td>4.906444</td>\n",
       "    </tr>\n",
       "    <tr>\n",
       "      <th>American Solar Direct</th>\n",
       "      <td>25154.819333</td>\n",
       "      <td>5.399912</td>\n",
       "      <td>45</td>\n",
       "      <td>4.809058</td>\n",
       "    </tr>\n",
       "    <tr>\n",
       "      <th>Quantum Solar Design Inc</th>\n",
       "      <td>31760.420455</td>\n",
       "      <td>5.104381</td>\n",
       "      <td>44</td>\n",
       "      <td>6.272386</td>\n",
       "    </tr>\n",
       "    <tr>\n",
       "      <th>360 Solar Energy Inc</th>\n",
       "      <td>30159.563953</td>\n",
       "      <td>5.204054</td>\n",
       "      <td>43</td>\n",
       "      <td>5.876093</td>\n",
       "    </tr>\n",
       "    <tr>\n",
       "      <th>Pacific Blue Solar</th>\n",
       "      <td>30178.452381</td>\n",
       "      <td>5.163548</td>\n",
       "      <td>42</td>\n",
       "      <td>5.849786</td>\n",
       "    </tr>\n",
       "    <tr>\n",
       "      <th>V3 Electric</th>\n",
       "      <td>68909.996585</td>\n",
       "      <td>14.758962</td>\n",
       "      <td>41</td>\n",
       "      <td>5.742601</td>\n",
       "    </tr>\n",
       "    <tr>\n",
       "      <th>Levi Builders Inc.</th>\n",
       "      <td>34574.829268</td>\n",
       "      <td>7.740982</td>\n",
       "      <td>41</td>\n",
       "      <td>4.029122</td>\n",
       "    </tr>\n",
       "    <tr>\n",
       "      <th>American Green Home Builder</th>\n",
       "      <td>42393.073171</td>\n",
       "      <td>10.201793</td>\n",
       "      <td>41</td>\n",
       "      <td>4.298951</td>\n",
       "    </tr>\n",
       "    <tr>\n",
       "      <th>California Solar Systems</th>\n",
       "      <td>29391.161795</td>\n",
       "      <td>5.016967</td>\n",
       "      <td>39</td>\n",
       "      <td>5.910513</td>\n",
       "    </tr>\n",
       "    <tr>\n",
       "      <th>Sunlight Solar Inc</th>\n",
       "      <td>24189.307692</td>\n",
       "      <td>6.408141</td>\n",
       "      <td>39</td>\n",
       "      <td>3.849846</td>\n",
       "    </tr>\n",
       "    <tr>\n",
       "      <th>PALOMAR SOLAR LTD</th>\n",
       "      <td>30535.205128</td>\n",
       "      <td>4.722041</td>\n",
       "      <td>39</td>\n",
       "      <td>6.570462</td>\n",
       "    </tr>\n",
       "    <tr>\n",
       "      <th>SunFusion Solar</th>\n",
       "      <td>34498.948718</td>\n",
       "      <td>4.284628</td>\n",
       "      <td>39</td>\n",
       "      <td>9.284769</td>\n",
       "    </tr>\n",
       "    <tr>\n",
       "      <th>Sea Bright Solar Inc.</th>\n",
       "      <td>130571.915789</td>\n",
       "      <td>17.040126</td>\n",
       "      <td>38</td>\n",
       "      <td>7.386342</td>\n",
       "    </tr>\n",
       "    <tr>\n",
       "      <th>Sunpro Solar</th>\n",
       "      <td>36505.156757</td>\n",
       "      <td>5.244908</td>\n",
       "      <td>37</td>\n",
       "      <td>6.861838</td>\n",
       "    </tr>\n",
       "    <tr>\n",
       "      <th>Natural Energy USA</th>\n",
       "      <td>25216.968919</td>\n",
       "      <td>4.801405</td>\n",
       "      <td>37</td>\n",
       "      <td>5.341189</td>\n",
       "    </tr>\n",
       "    <tr>\n",
       "      <th>Electricare Inc.</th>\n",
       "      <td>27255.841944</td>\n",
       "      <td>4.630275</td>\n",
       "      <td>36</td>\n",
       "      <td>6.195722</td>\n",
       "    </tr>\n",
       "    <tr>\n",
       "      <th>Barnes Solar, Inc.</th>\n",
       "      <td>35525.390556</td>\n",
       "      <td>4.357876</td>\n",
       "      <td>36</td>\n",
       "      <td>8.240694</td>\n",
       "    </tr>\n",
       "    <tr>\n",
       "      <th>Allen Energy</th>\n",
       "      <td>24093.200000</td>\n",
       "      <td>5.189056</td>\n",
       "      <td>35</td>\n",
       "      <td>4.653429</td>\n",
       "    </tr>\n",
       "    <tr>\n",
       "      <th>Sunnyside Solar Inc</th>\n",
       "      <td>21862.259118</td>\n",
       "      <td>5.641810</td>\n",
       "      <td>34</td>\n",
       "      <td>3.874118</td>\n",
       "    </tr>\n",
       "    <tr>\n",
       "      <th>TLP Electric Integrations Inc. Infinity</th>\n",
       "      <td>29461.652813</td>\n",
       "      <td>4.869930</td>\n",
       "      <td>32</td>\n",
       "      <td>6.118125</td>\n",
       "    </tr>\n",
       "    <tr>\n",
       "      <th>So Cal Custom Inc.</th>\n",
       "      <td>27538.062500</td>\n",
       "      <td>5.347805</td>\n",
       "      <td>32</td>\n",
       "      <td>5.198719</td>\n",
       "    </tr>\n",
       "    <tr>\n",
       "      <th>Progressive Energy Solutions, Inc.</th>\n",
       "      <td>33109.847812</td>\n",
       "      <td>5.265984</td>\n",
       "      <td>32</td>\n",
       "      <td>6.365312</td>\n",
       "    </tr>\n",
       "    <tr>\n",
       "      <th>Solar Source Inc</th>\n",
       "      <td>29251.531250</td>\n",
       "      <td>4.424308</td>\n",
       "      <td>32</td>\n",
       "      <td>6.806813</td>\n",
       "    </tr>\n",
       "    <tr>\n",
       "      <th>Sun Solar Energy Solutions</th>\n",
       "      <td>39876.580645</td>\n",
       "      <td>5.171602</td>\n",
       "      <td>31</td>\n",
       "      <td>7.689742</td>\n",
       "    </tr>\n",
       "    <tr>\n",
       "      <th>Ambassador Energy, Inc</th>\n",
       "      <td>28521.350000</td>\n",
       "      <td>4.465813</td>\n",
       "      <td>31</td>\n",
       "      <td>6.320935</td>\n",
       "    </tr>\n",
       "  </tbody>\n",
       "</table>\n",
       "<p>100 rows × 4 columns</p>\n",
       "</div>"
      ],
      "text/plain": [
       "                                         Total_System_Cost  Price_Per_Watt  \\\n",
       "Installer_Name_clear                                                         \n",
       "SolarCity Corporation                         33280.370432        7.527875   \n",
       "SunPower Corporation                           9344.309938        4.281437   \n",
       "Petersen Dean Roofing & Solar Systems         27949.343337        5.005716   \n",
       "Sunrun Installation Services, Inc             24945.874531        4.409633   \n",
       "Semper Solaris Construction Inc               28486.149758        5.191150   \n",
       "Sullivan Solar Power                          31803.345241        5.260244   \n",
       "Verengo                                       26496.918034        5.030526   \n",
       "Grid Alternatives                             17374.534488        5.431064   \n",
       "Zero Energy Associates                        25183.271949       17.499276   \n",
       "American Solar Direct Inc                     27531.638780        5.465480   \n",
       "SolarMax Renewable Energy Provider, Inc       28202.009061        4.636942   \n",
       "Baker Electric, Inc.                          32199.871972        4.898342   \n",
       "Enver Energy                                  33252.257463        7.267900   \n",
       "Sungevity Inc                                 20695.719036        4.163251   \n",
       "A1 Solar Power Inc                            33517.022165        8.094825   \n",
       "LA Solar Group                                38424.929450        6.533754   \n",
       "Future Energy Corporation                     78493.930939       16.288649   \n",
       "Energy Remodeling                             31326.300667        8.427960   \n",
       "REC Solar, Inc.                               21775.537037        4.179845   \n",
       "Solcius                                       28181.300884        5.659812   \n",
       "Horizon Solar Power                           44719.272837        7.321415   \n",
       "Stellar Solar                                 28538.045113        5.078185   \n",
       "ASI Hastings, Inc                             24738.238462        4.839609   \n",
       "Solar Service Center                          21829.312177        4.159879   \n",
       "Solar Universe                                46276.801048        8.642039   \n",
       "Green Convergence                             37293.408333        6.523714   \n",
       "Precis Solar                                  32618.954955        5.804872   \n",
       "Planet Solar Inc                              37618.973874        5.073382   \n",
       "Galkos Construction                           27400.995234        5.375539   \n",
       "Hot Purple Energy                             50057.500000        5.891274   \n",
       "...                                                    ...             ...   \n",
       "Urban Energy Solar                            33548.278936        5.567315   \n",
       "Natural Energy                                27307.319149        4.929888   \n",
       "Revco Solar Engineering Inc                   37115.913043        6.702431   \n",
       "Sungevity                                     26166.666667        4.691142   \n",
       "Green NRG                                     29762.700222        6.628540   \n",
       "Solar West Electric, Inc.                     24856.088889        5.231634   \n",
       "American Solar Direct                         25154.819333        5.399912   \n",
       "Quantum Solar Design Inc                      31760.420455        5.104381   \n",
       "360 Solar Energy Inc                          30159.563953        5.204054   \n",
       "Pacific Blue Solar                            30178.452381        5.163548   \n",
       "V3 Electric                                   68909.996585       14.758962   \n",
       "Levi Builders Inc.                            34574.829268        7.740982   \n",
       "American Green Home Builder                   42393.073171       10.201793   \n",
       "California Solar Systems                      29391.161795        5.016967   \n",
       "Sunlight Solar Inc                            24189.307692        6.408141   \n",
       "PALOMAR SOLAR LTD                             30535.205128        4.722041   \n",
       "SunFusion Solar                               34498.948718        4.284628   \n",
       "Sea Bright Solar Inc.                        130571.915789       17.040126   \n",
       "Sunpro Solar                                  36505.156757        5.244908   \n",
       "Natural Energy USA                            25216.968919        4.801405   \n",
       "Electricare Inc.                              27255.841944        4.630275   \n",
       "Barnes Solar, Inc.                            35525.390556        4.357876   \n",
       "Allen Energy                                  24093.200000        5.189056   \n",
       "Sunnyside Solar Inc                           21862.259118        5.641810   \n",
       "TLP Electric Integrations Inc. Infinity       29461.652813        4.869930   \n",
       "So Cal Custom Inc.                            27538.062500        5.347805   \n",
       "Progressive Energy Solutions, Inc.            33109.847812        5.265984   \n",
       "Solar Source Inc                              29251.531250        4.424308   \n",
       "Sun Solar Energy Solutions                    39876.580645        5.171602   \n",
       "Ambassador Energy, Inc                        28521.350000        4.465813   \n",
       "\n",
       "                                         Count  System_Size_AC  \n",
       "Installer_Name_clear                                            \n",
       "SolarCity Corporation                     3868        4.746334  \n",
       "SunPower Corporation                      1451        2.237863  \n",
       "Petersen Dean Roofing & Solar Systems     1007        5.727268  \n",
       "Sunrun Installation Services, Inc          746        5.797628  \n",
       "Semper Solaris Construction Inc            621        5.542386  \n",
       "Sullivan Solar Power                       498        6.148213  \n",
       "Verengo                                    473        5.576059  \n",
       "Grid Alternatives                          410        3.342524  \n",
       "Zero Energy Associates                     395        2.140973  \n",
       "American Solar Direct Inc                  369        5.146436  \n",
       "SolarMax Renewable Energy Provider, Inc    362        6.369732  \n",
       "Baker Electric, Inc.                       289        6.663913  \n",
       "Enver Energy                               268        4.710494  \n",
       "Sungevity Inc                              249        5.052815  \n",
       "A1 Solar Power Inc                         231        4.214991  \n",
       "LA Solar Group                             200        6.941815  \n",
       "Future Energy Corporation                  181        4.889132  \n",
       "Energy Remodeling                          180        3.784633  \n",
       "REC Solar, Inc.                            162        5.266784  \n",
       "Solcius                                    147        5.094605  \n",
       "Horizon Solar Power                        141        6.380092  \n",
       "Stellar Solar                              133        5.739045  \n",
       "ASI Hastings, Inc                          130        5.679700  \n",
       "Solar Service Center                       124        5.337831  \n",
       "Solar Universe                             124        6.290033  \n",
       "Green Convergence                          120        5.769533  \n",
       "Precis Solar                               111        5.659018  \n",
       "Planet Solar Inc                           111        7.321126  \n",
       "Galkos Construction                        107        5.447710  \n",
       "Hot Purple Energy                          106        9.115547  \n",
       "...                                        ...             ...  \n",
       "Urban Energy Solar                          47        6.073596  \n",
       "Natural Energy                              47        5.635170  \n",
       "Revco Solar Engineering Inc                 46        6.106130  \n",
       "Sungevity                                   45        5.145052  \n",
       "Green NRG                                   45        4.587537  \n",
       "Solar West Electric, Inc.                   45        4.906444  \n",
       "American Solar Direct                       45        4.809058  \n",
       "Quantum Solar Design Inc                    44        6.272386  \n",
       "360 Solar Energy Inc                        43        5.876093  \n",
       "Pacific Blue Solar                          42        5.849786  \n",
       "V3 Electric                                 41        5.742601  \n",
       "Levi Builders Inc.                          41        4.029122  \n",
       "American Green Home Builder                 41        4.298951  \n",
       "California Solar Systems                    39        5.910513  \n",
       "Sunlight Solar Inc                          39        3.849846  \n",
       "PALOMAR SOLAR LTD                           39        6.570462  \n",
       "SunFusion Solar                             39        9.284769  \n",
       "Sea Bright Solar Inc.                       38        7.386342  \n",
       "Sunpro Solar                                37        6.861838  \n",
       "Natural Energy USA                          37        5.341189  \n",
       "Electricare Inc.                            36        6.195722  \n",
       "Barnes Solar, Inc.                          36        8.240694  \n",
       "Allen Energy                                35        4.653429  \n",
       "Sunnyside Solar Inc                         34        3.874118  \n",
       "TLP Electric Integrations Inc. Infinity     32        6.118125  \n",
       "So Cal Custom Inc.                          32        5.198719  \n",
       "Progressive Energy Solutions, Inc.          32        6.365312  \n",
       "Solar Source Inc                            32        6.806813  \n",
       "Sun Solar Energy Solutions                  31        7.689742  \n",
       "Ambassador Energy, Inc                      31        6.320935  \n",
       "\n",
       "[100 rows x 4 columns]"
      ]
     },
     "execution_count": 118,
     "metadata": {},
     "output_type": "execute_result"
    }
   ],
   "source": [
    "df_agg_top"
   ]
  },
  {
   "cell_type": "code",
   "execution_count": null,
   "metadata": {
    "collapsed": false
   },
   "outputs": [],
   "source": [
    "from matplotlib import cm"
   ]
  },
  {
   "cell_type": "code",
   "execution_count": null,
   "metadata": {
    "collapsed": false
   },
   "outputs": [],
   "source": [
    "#df_agg_top.plot(kind='scatter', x='Price_Per_Watt', y='System_Size_AC', s=df_agg_top['Count'], cmap = cmap)"
   ]
  },
  {
   "cell_type": "code",
   "execution_count": null,
   "metadata": {
    "collapsed": false
   },
   "outputs": [],
   "source": [
    "import numpy as np\n",
    "import matplotlib.pyplot as plt"
   ]
  },
  {
   "cell_type": "code",
   "execution_count": 128,
   "metadata": {
    "collapsed": false
   },
   "outputs": [
    {
     "name": "stderr",
     "output_type": "stream",
     "text": [
      "/Users/wilfeli/anaconda/lib/python3.5/site-packages/matplotlib/collections.py:590: FutureWarning: elementwise comparison failed; returning scalar instead, but in the future will perform elementwise comparison\n",
      "  if self._edgecolors == str('face'):\n"
     ]
    },
    {
     "data": {
      "image/png": "[encoded data removed]",
      "text/plain": [
       "<matplotlib.figure.Figure at 0x10dcb2208>"
      ]
     },
     "metadata": {},
     "output_type": "display_data"
    }
   ],
   "source": [
    "N = 100\n",
    "x = df_agg_top['Price_Per_Watt']\n",
    "y = df_agg_top['System_Size_AC']\n",
    "norm = matplotlib.colors.Normalize(vmin=df_agg_top['Count'][99], vmax=df_agg_top['Count'][0])\n",
    "cmap_custom = cm.get_cmap('ocean')\n",
    "area = norm(df_agg_top['Count'])\n",
    "color = []\n",
    "\n",
    "for area_x in area:\n",
    "    color.append(cmap_custom(area_x))\n",
    "\n",
    "\n",
    "plt.scatter(x, y, s=df_agg_top['Count'],  c = color )\n",
    "plt.show()"
   ]
  },
  {
   "cell_type": "code",
   "execution_count": null,
   "metadata": {
    "collapsed": true
   },
   "outputs": [],
   "source": []
  }
 ],
 "metadata": {
  "kernelspec": {
   "display_name": "Python 3",
   "language": "python",
   "name": "python3"
  },
  "language_info": {
   "codemirror_mode": {
    "name": "ipython",
    "version": 3
   },
   "file_extension": ".py",
   "mimetype": "text/x-python",
   "name": "python",
   "nbconvert_exporter": "python",
   "pygments_lexer": "ipython3",
   "version": "3.5.0"
  }
 },
 "nbformat": 4,
 "nbformat_minor": 0
}
