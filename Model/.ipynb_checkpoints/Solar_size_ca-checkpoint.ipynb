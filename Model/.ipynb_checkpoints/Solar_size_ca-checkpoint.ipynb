{
 "cells": [
  {
   "cell_type": "code",
   "execution_count": 32,
   "metadata": {
    "collapsed": true
   },
   "outputs": [],
   "source": [
    "import pandas as pd\n",
    "import numpy as np\n",
    "%matplotlib inline\n",
    "import matplotlib.pyplot as plt\n",
    "import matplotlib\n",
    "matplotlib.style.use('ggplot')\n",
    "#ols models\n",
    "import statsmodels.formula.api as sm\n",
    "from patsy import dmatrices\n",
    "import re\n",
    "import scipy as sp"
   ]
  },
  {
   "cell_type": "code",
   "execution_count": 2,
   "metadata": {
    "collapsed": true
   },
   "outputs": [],
   "source": [
    "#column names\n",
    "def print_columns(dataframe):\n",
    "    i = 0\n",
    "    for column in dataframe.columns:\n",
    "        print((i, column))\n",
    "        i += 1"
   ]
  },
  {
   "cell_type": "code",
   "execution_count": 3,
   "metadata": {
    "collapsed": false
   },
   "outputs": [
    {
     "ename": "NameError",
     "evalue": "name 'ss_df' is not defined",
     "output_type": "error",
     "traceback": [
      "\u001b[0;31m---------------------------------------------------------------------------\u001b[0m",
      "\u001b[0;31mNameError\u001b[0m                                 Traceback (most recent call last)",
      "\u001b[0;32m<ipython-input-3-718ecbf14030>\u001b[0m in \u001b[0;36m<module>\u001b[0;34m()\u001b[0m\n\u001b[1;32m      3\u001b[0m \u001b[0mdf\u001b[0m\u001b[0;34m.\u001b[0m\u001b[0mix\u001b[0m\u001b[0;34m[\u001b[0m\u001b[0;34m:\u001b[0m\u001b[0;34m,\u001b[0m\u001b[0;36m22\u001b[0m\u001b[0;34m]\u001b[0m \u001b[0;34m=\u001b[0m  \u001b[0mpd\u001b[0m\u001b[0;34m.\u001b[0m\u001b[0mto_datetime\u001b[0m\u001b[0;34m(\u001b[0m\u001b[0mdf\u001b[0m\u001b[0;34m.\u001b[0m\u001b[0mix\u001b[0m\u001b[0;34m[\u001b[0m\u001b[0;34m:\u001b[0m\u001b[0;34m,\u001b[0m\u001b[0;36m22\u001b[0m\u001b[0;34m]\u001b[0m\u001b[0;34m,\u001b[0m \u001b[0minfer_datetime_format\u001b[0m\u001b[0;34m=\u001b[0m\u001b[0;32mTrue\u001b[0m\u001b[0;34m)\u001b[0m\u001b[0;34m\u001b[0m\u001b[0m\n\u001b[1;32m      4\u001b[0m \u001b[0mdf\u001b[0m\u001b[0;34m.\u001b[0m\u001b[0mcolumns\u001b[0m \u001b[0;34m=\u001b[0m \u001b[0mdf\u001b[0m\u001b[0;34m.\u001b[0m\u001b[0mcolumns\u001b[0m\u001b[0;34m.\u001b[0m\u001b[0mstr\u001b[0m\u001b[0;34m.\u001b[0m\u001b[0mreplace\u001b[0m\u001b[0;34m(\u001b[0m\u001b[0;34m' '\u001b[0m\u001b[0;34m,\u001b[0m\u001b[0;34m'_'\u001b[0m\u001b[0;34m)\u001b[0m\u001b[0;34m\u001b[0m\u001b[0m\n\u001b[0;32m----> 5\u001b[0;31m \u001b[0mdf\u001b[0m \u001b[0;34m=\u001b[0m \u001b[0mdf\u001b[0m\u001b[0;34m[\u001b[0m\u001b[0;34m(\u001b[0m\u001b[0mss_df\u001b[0m\u001b[0;34m.\u001b[0m\u001b[0mT\u001b[0m \u001b[0;34m!=\u001b[0m \u001b[0;36m0\u001b[0m\u001b[0;34m)\u001b[0m\u001b[0;34m.\u001b[0m\u001b[0mall\u001b[0m\u001b[0;34m(\u001b[0m\u001b[0;34m)\u001b[0m\u001b[0;34m]\u001b[0m\u001b[0;34m\u001b[0m\u001b[0m\n\u001b[0m",
      "\u001b[0;31mNameError\u001b[0m: name 'ss_df' is not defined"
     ]
    }
   ],
   "source": [
    "#read data\n",
    "df = pd.read_csv(\"../../Data/WorkingDataSet_3-16-2016.csv\", low_memory=False)"
   ]
  },
  {
   "cell_type": "code",
   "execution_count": 4,
   "metadata": {
    "collapsed": true
   },
   "outputs": [],
   "source": [
    "#simple transforms\n",
    "df.ix[:,22] =  pd.to_datetime(df.ix[:,22], infer_datetime_format=True)\n",
    "df.columns = df.columns.str.replace(' ','_')\n",
    "df = df[(df.T != 0).all()]"
   ]
  },
  {
   "cell_type": "code",
   "execution_count": 5,
   "metadata": {
    "collapsed": false
   },
   "outputs": [
    {
     "name": "stdout",
     "output_type": "stream",
     "text": [
      "(0, 'Application_Number')\n",
      "(1, 'Program_Administrator')\n",
      "(2, 'Program')\n",
      "(3, 'Incentive_Design')\n",
      "(4, 'Incentive_Type')\n",
      "(5, 'Incentive_Step')\n",
      "(6, 'Incentive_Amount')\n",
      "(7, 'Total_Cost')\n",
      "(8, 'Nameplate_Rating')\n",
      "(9, 'CEC_PTC_Rating')\n",
      "(10, 'Design_Factor')\n",
      "(11, 'CSI_Rating')\n",
      "(12, 'Current_Incentive_Application_Status')\n",
      "(13, 'Cancellation_Reason')\n",
      "(14, 'Host_Customer_NAICS_Code')\n",
      "(15, 'System_Owner_Sector')\n",
      "(16, 'System_Owner_NAICS_Code')\n",
      "(17, 'Host_Customer_Sector')\n",
      "(18, 'Host_Customer_Physical_Address_City')\n",
      "(19, 'Host_Customer_Physical_Address_County')\n",
      "(20, 'Host_Customer_Physical_Address_State')\n",
      "(21, 'Host_Customer_Physical_Zip_Code')\n",
      "(22, 'First_New_Reservation_Request_Date')\n",
      "(23, 'First_Online_Reservation_Request_Submitted_Date')\n",
      "(24, 'First_Reservation_Request_Review_Date')\n",
      "(25, 'First_Pending_RFP_Date')\n",
      "(26, \"First_RFP_Review_(Gov't/Non-Profit_only)_Date\")\n",
      "(27, 'First_Suspended_-_RFP_Review_Date')\n",
      "(28, 'First_Reservation_Reserved_Date')\n",
      "(29, 'First_Online_Proof_of_Project_Milestones_Submitted_Date')\n",
      "(30, 'First_Proof_of_Project_Milestones_Review_Date')\n",
      "(31, 'First_Suspended_-_Milestone_Review_Date')\n",
      "(32, 'First_Suspended_-_Reservation_Review_Date')\n",
      "(33, 'First_Confirmed_Reservation_Date')\n",
      "(34, 'First_Online_Incentive_Claim_Request_Submitted_Date')\n",
      "(35, 'First_Incentive_Claim_Request_Review_Date')\n",
      "(36, 'First_Suspended_-_Incentive_Claim_Request_Review_Date')\n",
      "(37, 'First_Pending_Payment_Date')\n",
      "(38, 'First_PBI_-_In_Payment_Date')\n",
      "(39, 'First_Completed_Date')\n",
      "(40, 'First_Withdrawn_Date')\n",
      "(41, 'First_Cancelled_Date')\n",
      "(42, 'First_Site_Transferred_Date')\n",
      "(43, 'First_System_Removed_Date')\n",
      "(44, 'Solar_Contractor_Company_Name')\n",
      "(45, 'Contractor_License_Number')\n",
      "(46, 'Seller_Company_Name')\n",
      "(47, '3rd_Party_Owner')\n",
      "(48, 'PV_Module#1_Manufacturer')\n",
      "(49, 'PV_Module#2_Manufacturer')\n",
      "(50, 'PV_Module#3_Manufacturer')\n",
      "(51, 'PV_Module#4_Manufacturer')\n",
      "(52, 'PV_Module#5_Manufacturer')\n",
      "(53, 'PV_Module#6_Manufacturer')\n",
      "(54, 'PV_Module#7_Manufacturer')\n",
      "(55, 'PV_Module#8_Manufacturer')\n",
      "(56, 'PV_Module#9_Manufacturer')\n",
      "(57, 'PV_Module#1_Model')\n",
      "(58, 'PV_Module#2_Model')\n",
      "(59, 'PV_Module#3_Model')\n",
      "(60, 'PV_Module#4_Model')\n",
      "(61, 'PV_Module#5_Model')\n",
      "(62, 'PV_Module#6_Model')\n",
      "(63, 'PV_Module#7_Model')\n",
      "(64, 'PV_Module#8_Model')\n",
      "(65, 'PV_Module#9_Model')\n",
      "(66, 'PV_Module#1_Quantity')\n",
      "(67, 'PV_Module#2_Quantity')\n",
      "(68, 'PV_Module#3_Quantity')\n",
      "(69, 'PV_Module#4_Quantity')\n",
      "(70, 'PV_Module#5_Quantity')\n",
      "(71, 'PV_Module#6_Quantity')\n",
      "(72, 'PV_Module#7_Quantity')\n",
      "(73, 'PV_Module#8_Quantity')\n",
      "(74, 'PV_Module#9_Quantity')\n",
      "(75, 'Inverter#1_Manufacturer')\n",
      "(76, 'Inverter#2_Manufacturer')\n",
      "(77, 'Inverter#3_Manufacturer')\n",
      "(78, 'Inverter#4_Manufacturer')\n",
      "(79, 'Inverter#5_Manufacturer')\n",
      "(80, 'Inverter#6_Manufacturer')\n",
      "(81, 'Inverter#7_Manufacturer')\n",
      "(82, 'Inverter#8_Manufacturer')\n",
      "(83, 'Inverter#9_Manufacturer')\n",
      "(84, 'Inverter#10_Manufacturer')\n",
      "(85, 'Inverter#1_Model')\n",
      "(86, 'Inverter#2_Model')\n",
      "(87, 'Inverter#3_Model')\n",
      "(88, 'Inverter#4_Model')\n",
      "(89, 'Inverter#5_Model')\n",
      "(90, 'Inverter#6_Model')\n",
      "(91, 'Inverter#7_Model')\n",
      "(92, 'Inverter#8_Model')\n",
      "(93, 'Inverter#9_Model')\n",
      "(94, 'Inverter#10_Model')\n",
      "(95, 'Inverter#1_Quantity')\n",
      "(96, 'Inverter#2_Quantity')\n",
      "(97, 'Inverter#3_Quantity')\n",
      "(98, 'Inverter#4_Quantity')\n",
      "(99, 'Inverter#5_Quantity')\n",
      "(100, 'Inverter#6_Quantity')\n",
      "(101, 'Inverter#7_Quantity')\n",
      "(102, 'Inverter#8_Quantity')\n",
      "(103, 'Inverter#9_Quantity')\n",
      "(104, 'Inverter#10_Quantity')\n",
      "(105, 'Installed_Status')\n",
      "(106, 'Completed/PBI-In_Payment_Status')\n",
      "(107, 'Performance_Monitoring_Provider')\n",
      "(108, 'PDP_Provider')\n",
      "(109, 'CSI_Project_Azimuth')\n",
      "(110, 'CSI_Project_Tilt')\n",
      "(111, 'Tracking_Type')\n",
      "(112, 'CEC_PTC_Rating_Fixed')\n",
      "(113, 'CEC_PTC_Rating_Single-Axis_Tracking')\n",
      "(114, 'CEC_PTC_Rating_Dual-Axis_Tracking')\n",
      "(115, 'CSI_Rating_Fixed')\n",
      "(116, 'CSI_Rating_Single-Axis_Tracking')\n",
      "(117, 'CSI_Rating_Dual-Axis_Tracking')\n",
      "(118, 'MASH_Track_1A_Incentive_Amount')\n",
      "(119, 'MASH_Track_1B_Incentive_Amount')\n",
      "(120, 'MASH_Track_2_Incentive_Amount')\n",
      "(121, 'MASH_Track_1A_%_Capacity')\n",
      "(122, 'MASH_Track_1B_%_Capacity')\n"
     ]
    }
   ],
   "source": [
    "print_columns(df)"
   ]
  },
  {
   "cell_type": "code",
   "execution_count": 20,
   "metadata": {
    "collapsed": false
   },
   "outputs": [
    {
     "data": {
      "text/plain": [
       "array([[<matplotlib.axes._subplots.AxesSubplot object at 0x10d86ffd0>]], dtype=object)"
      ]
     },
     "execution_count": 20,
     "metadata": {},
     "output_type": "execute_result"
    },
    {
     "data": {
      "image/png": "[encoded data removed]",
      "text/plain": [
       "<matplotlib.figure.Figure at 0x10d8cab38>"
      ]
     },
     "metadata": {},
     "output_type": "display_data"
    }
   ],
   "source": [
    "pd.DataFrame.hist(df[df['Total_Cost'] < 180000], column='Total_Cost', bins = 50)"
   ]
  },
  {
   "cell_type": "code",
   "execution_count": 89,
   "metadata": {
    "collapsed": false
   },
   "outputs": [
    {
     "data": {
      "text/plain": [
       "array([[<matplotlib.axes._subplots.AxesSubplot object at 0x110659748>]], dtype=object)"
      ]
     },
     "execution_count": 89,
     "metadata": {},
     "output_type": "execute_result"
    },
    {
     "data": {
      "image/png": "[encoded data removed]",
      "text/plain": [
       "<matplotlib.figure.Figure at 0x11080ab38>"
      ]
     },
     "metadata": {},
     "output_type": "display_data"
    }
   ],
   "source": [
    "pd.DataFrame.hist(df[df['Total_Cost'] < 180000], column='Nameplate_Rating', bins = 50)"
   ]
  },
  {
   "cell_type": "code",
   "execution_count": 21,
   "metadata": {
    "collapsed": false
   },
   "outputs": [],
   "source": [
    "count,division = np.histogram(df[df['Total_Cost'] < 180000].ix[:,7],bins = 50)"
   ]
  },
  {
   "cell_type": "code",
   "execution_count": 22,
   "metadata": {
    "collapsed": false
   },
   "outputs": [
    {
     "name": "stdout",
     "output_type": "stream",
     "text": [
      "[ 11  48 209 432 737 868 744 550 448 315 197 138 134  93  66  60  34  27\n",
      "  25  26  16  36  29  13   1   0   0   1   0   0   1   2   2   0   0   0\n",
      "   1   0   0   0   0   0   0   0   0   1   0   0   0   1]\n"
     ]
    }
   ],
   "source": [
    "print(count)"
   ]
  },
  {
   "cell_type": "code",
   "execution_count": 23,
   "metadata": {
    "collapsed": false
   },
   "outputs": [
    {
     "name": "stdout",
     "output_type": "stream",
     "text": [
      "[  4797.5      6657.1478   8516.7956  10376.4434  12236.0912  14095.739\n",
      "  15955.3868  17815.0346  19674.6824  21534.3302  23393.978   25253.6258\n",
      "  27113.2736  28972.9214  30832.5692  32692.217   34551.8648  36411.5126\n",
      "  38271.1604  40130.8082  41990.456   43850.1038  45709.7516  47569.3994\n",
      "  49429.0472  51288.695   53148.3428  55007.9906  56867.6384  58727.2862\n",
      "  60586.934   62446.5818  64306.2296  66165.8774  68025.5252  69885.173\n",
      "  71744.8208  73604.4686  75464.1164  77323.7642  79183.412   81043.0598\n",
      "  82902.7076  84762.3554  86622.0032  88481.651   90341.2988  92200.9466\n",
      "  94060.5944  95920.2422  97779.89  ]\n"
     ]
    }
   ],
   "source": [
    "print(division)"
   ]
  },
  {
   "cell_type": "code",
   "execution_count": 27,
   "metadata": {
    "collapsed": false
   },
   "outputs": [
    {
     "name": "stdout",
     "output_type": "stream",
     "text": [
      "11 4797.5\n",
      "48 6657.1478\n",
      "209 8516.7956\n",
      "432 10376.4434\n",
      "737 12236.0912\n",
      "868 14095.739\n",
      "744 15955.3868\n",
      "550 17815.0346\n",
      "448 19674.6824\n",
      "315 21534.3302\n",
      "197 23393.978\n",
      "138 25253.6258\n",
      "134 27113.2736\n",
      "93 28972.9214\n",
      "66 30832.5692\n",
      "60 32692.217\n",
      "34 34551.8648\n",
      "27 36411.5126\n",
      "25 38271.1604\n",
      "26 40130.8082\n",
      "16 41990.456\n",
      "36 43850.1038\n",
      "29 45709.7516\n",
      "13 47569.3994\n",
      "1 49429.0472\n",
      "0 51288.695\n",
      "0 53148.3428\n",
      "1 55007.9906\n",
      "0 56867.6384\n",
      "0 58727.2862\n",
      "1 60586.934\n",
      "2 62446.5818\n",
      "2 64306.2296\n",
      "0 66165.8774\n",
      "0 68025.5252\n",
      "0 69885.173\n",
      "1 71744.8208\n",
      "0 73604.4686\n",
      "0 75464.1164\n",
      "0 77323.7642\n",
      "0 79183.412\n",
      "0 81043.0598\n",
      "0 82902.7076\n",
      "0 84762.3554\n",
      "0 86622.0032\n",
      "1 88481.651\n",
      "0 90341.2988\n",
      "0 92200.9466\n",
      "0 94060.5944\n",
      "1 95920.2422\n"
     ]
    }
   ],
   "source": [
    "for a, b in zip(count, division):\n",
    "    print (a, b)"
   ]
  },
  {
   "cell_type": "code",
   "execution_count": 28,
   "metadata": {
    "collapsed": true
   },
   "outputs": [],
   "source": [
    "total_cost = df[df['Total_Cost'] < 180000].ix[:,7]"
   ]
  },
  {
   "cell_type": "code",
   "execution_count": 29,
   "metadata": {
    "collapsed": false
   },
   "outputs": [
    {
     "data": {
      "text/plain": [
       "7409.7146709644248"
      ]
     },
     "execution_count": 29,
     "metadata": {},
     "output_type": "execute_result"
    }
   ],
   "source": [
    "np.std(total_cost)"
   ]
  },
  {
   "cell_type": "code",
   "execution_count": 34,
   "metadata": {
    "collapsed": false
   },
   "outputs": [
    {
     "data": {
      "text/plain": [
       "ModeResult(mode=array([ 15572.96]), count=array([ 25.]))"
      ]
     },
     "execution_count": 34,
     "metadata": {},
     "output_type": "execute_result"
    }
   ],
   "source": [
    "#sp.stats.mstats.mode(total_cost)"
   ]
  },
  {
   "cell_type": "code",
   "execution_count": 35,
   "metadata": {
    "collapsed": false
   },
   "outputs": [
    {
     "data": {
      "text/plain": [
       "18514.6914849981"
      ]
     },
     "execution_count": 35,
     "metadata": {},
     "output_type": "execute_result"
    }
   ],
   "source": [
    "np.mean(total_cost)"
   ]
  },
  {
   "cell_type": "code",
   "execution_count": 91,
   "metadata": {
    "collapsed": false
   },
   "outputs": [
    {
     "data": {
      "text/plain": [
       "16732.400000000001"
      ]
     },
     "execution_count": 91,
     "metadata": {},
     "output_type": "execute_result"
    }
   ],
   "source": [
    "np.median(total_cost)"
   ]
  },
  {
   "cell_type": "code",
   "execution_count": 58,
   "metadata": {
    "collapsed": true
   },
   "outputs": [],
   "source": [
    "#read data\n",
    "df_mt = pd.read_csv(\"../../Data/MA_InstallersCostsReport 10-08-15.csv\", low_memory=False)"
   ]
  },
  {
   "cell_type": "code",
   "execution_count": 75,
   "metadata": {
    "collapsed": false
   },
   "outputs": [
    {
     "name": "stdout",
     "output_type": "stream",
     "text": [
      "(0, 'Program')\n",
      "(1, '_Date_of_Application')\n",
      "(2, 'Status')\n",
      "(3, 'Date_in_Service_(Available_for_Projects_April_2010_and_Later)')\n",
      "(4, 'Electric_Utility')\n",
      "(5, 'Project_Sector')\n",
      "(6, 'Project_Sub-Sector')\n",
      "(7, '_City')\n",
      "(8, '_Zip_Code')\n",
      "(9, 'Third_Party_Owner')\n",
      "(10, 'Primary_Installer_(a.k.a_Applicant_in_PowerClerk)')\n",
      "(11, 'Secondary_Installer')\n",
      "(12, 'System_Size_(kW)')\n",
      "(13, 'Total_Installation_Costs')\n",
      "(14, 'Installation_Cost_per_Watt')\n",
      "(15, 'Total_Rebate_$_Approved')\n",
      "(16, 'Mass._ManufacturedComponents_')\n",
      "(17, 'Moderate_Home_Value_-Residential_Only_')\n",
      "(18, 'Moderate_Income_-_Residential_Only____')\n",
      "(19, 'Natural_Disaster_Relief_')\n",
      "(20, 'Manufacturer_#1')\n",
      "(21, 'Quantity')\n",
      "(22, 'Manufacturer_#2')\n",
      "(23, 'Quantity.1')\n",
      "(24, 'Manufacturer_#3')\n",
      "(25, 'Quantity.2')\n",
      "(26, 'Manufacturer_#4')\n",
      "(27, 'Quantity.3')\n",
      "(28, 'Manufacturer_#5')\n",
      "(29, 'Quantity.4')\n",
      "(30, 'Manufacturer_#6')\n",
      "(31, 'Quantity.5')\n",
      "(32, 'Manufacturer_#1.1')\n",
      "(33, 'Quantity.6')\n",
      "(34, 'Manufacturer_#2.1')\n",
      "(35, 'Quantity.7')\n",
      "(36, 'Manufacturer_#3.1')\n",
      "(37, 'Quantity.8')\n",
      "(38, 'Manufacturer_#4.1')\n",
      "(39, 'Quantity.9')\n",
      "(40, 'Manufacturer_#5.1')\n",
      "(41, 'Quantity.10')\n"
     ]
    }
   ],
   "source": [
    "print_columns(df_mt)"
   ]
  },
  {
   "cell_type": "code",
   "execution_count": 60,
   "metadata": {
    "collapsed": true
   },
   "outputs": [],
   "source": [
    "df_mt.columns = df_mt.columns.str.replace(' ','_')\n",
    "#df_mt = df_mt[(df_mt.T != 0).all()]"
   ]
  },
  {
   "cell_type": "code",
   "execution_count": 66,
   "metadata": {
    "collapsed": false
   },
   "outputs": [],
   "source": [
    "df_mt['Total_Installation_Costs'] = df_mt['Total_Installation_Costs'].str.replace(r'[$,]', '').astype('float')"
   ]
  },
  {
   "cell_type": "code",
   "execution_count": 84,
   "metadata": {
    "collapsed": true
   },
   "outputs": [],
   "source": [
    "df_mt['Installation_Cost_per_Watt'] = df_mt['Installation_Cost_per_Watt'].str.replace(r'[$,]', '').astype('float')"
   ]
  },
  {
   "cell_type": "code",
   "execution_count": 67,
   "metadata": {
    "collapsed": false
   },
   "outputs": [
    {
     "data": {
      "text/plain": [
       "27854.0"
      ]
     },
     "execution_count": 67,
     "metadata": {},
     "output_type": "execute_result"
    }
   ],
   "source": [
    "df_mt['Total_Installation_Costs'][0]"
   ]
  },
  {
   "cell_type": "code",
   "execution_count": 70,
   "metadata": {
    "collapsed": false
   },
   "outputs": [
    {
     "data": {
      "text/plain": [
       "array([[<matplotlib.axes._subplots.AxesSubplot object at 0x105663898>]], dtype=object)"
      ]
     },
     "execution_count": 70,
     "metadata": {},
     "output_type": "execute_result"
    },
    {
     "data": {
      "image/png": "[encoded data removed]",
      "text/plain": [
       "<matplotlib.figure.Figure at 0x109c75f98>"
      ]
     },
     "metadata": {},
     "output_type": "display_data"
    }
   ],
   "source": [
    "pd.DataFrame.hist(df_mt[df_mt['Total_Installation_Costs'] < 180000], column = 'Total_Installation_Costs', bins = 50)"
   ]
  },
  {
   "cell_type": "code",
   "execution_count": 71,
   "metadata": {
    "collapsed": true
   },
   "outputs": [],
   "source": [
    "total_cost_mt = df_mt[df_mt['Total_Installation_Costs'] < 180000].ix[:,13]"
   ]
  },
  {
   "cell_type": "code",
   "execution_count": 72,
   "metadata": {
    "collapsed": false
   },
   "outputs": [
    {
     "data": {
      "text/plain": [
       "ModeResult(mode=array([ 27500.]), count=array([ 63.]))"
      ]
     },
     "execution_count": 72,
     "metadata": {},
     "output_type": "execute_result"
    }
   ],
   "source": [
    "#sp.stats.mstats.mode(total_cost_mt)"
   ]
  },
  {
   "cell_type": "code",
   "execution_count": 73,
   "metadata": {
    "collapsed": false
   },
   "outputs": [
    {
     "data": {
      "text/plain": [
       "15131.421383712392"
      ]
     },
     "execution_count": 73,
     "metadata": {},
     "output_type": "execute_result"
    }
   ],
   "source": [
    "np.std(total_cost_mt)"
   ]
  },
  {
   "cell_type": "code",
   "execution_count": 74,
   "metadata": {
    "collapsed": false
   },
   "outputs": [
    {
     "data": {
      "text/plain": [
       "31335.985817577774"
      ]
     },
     "execution_count": 74,
     "metadata": {},
     "output_type": "execute_result"
    }
   ],
   "source": [
    "np.mean(total_cost_mt)"
   ]
  },
  {
   "cell_type": "code",
   "execution_count": 92,
   "metadata": {
    "collapsed": false
   },
   "outputs": [
    {
     "data": {
      "text/plain": [
       "28859.099999999999"
      ]
     },
     "execution_count": 92,
     "metadata": {},
     "output_type": "execute_result"
    }
   ],
   "source": [
    "np.median(total_cost_mt)"
   ]
  },
  {
   "cell_type": "code",
   "execution_count": 90,
   "metadata": {
    "collapsed": false
   },
   "outputs": [
    {
     "data": {
      "text/plain": [
       "array([[<matplotlib.axes._subplots.AxesSubplot object at 0x10ecdf748>]], dtype=object)"
      ]
     },
     "execution_count": 90,
     "metadata": {},
     "output_type": "execute_result"
    },
    {
     "data": {
      "image/png": "[encoded data removed]",
      "text/plain": [
       "<matplotlib.figure.Figure at 0x10b7622b0>"
      ]
     },
     "metadata": {},
     "output_type": "display_data"
    }
   ],
   "source": [
    "pd.DataFrame.hist(df_mt[(df_mt['Total_Installation_Costs'] < 60000) & (df_mt['Total_Installation_Costs'] > 5000)], \\\n",
    "                  column = 'System_Size_(kW)', bins = 50)"
   ]
  },
  {
   "cell_type": "code",
   "execution_count": 93,
   "metadata": {
    "collapsed": true
   },
   "outputs": [],
   "source": [
    "dc_size_mt = df_mt[df_mt['Total_Installation_Costs'] < 180000].ix[:,12]"
   ]
  },
  {
   "cell_type": "code",
   "execution_count": 100,
   "metadata": {
    "collapsed": false
   },
   "outputs": [
    {
     "data": {
      "text/plain": [
       "Residential    9275\n",
       "Commercial     7417\n",
       "Public           70\n",
       "Name: Project_Sector, dtype: int64"
      ]
     },
     "execution_count": 100,
     "metadata": {},
     "output_type": "execute_result"
    }
   ],
   "source": [
    "df_mt['Project_Sector'].value_counts()"
   ]
  },
  {
   "cell_type": "code",
   "execution_count": 98,
   "metadata": {
    "collapsed": false
   },
   "outputs": [
    {
     "data": {
      "text/plain": [
       "array([[<matplotlib.axes._subplots.AxesSubplot object at 0x109ef9550>]], dtype=object)"
      ]
     },
     "execution_count": 98,
     "metadata": {},
     "output_type": "execute_result"
    },
    {
     "data": {
      "image/png": "[encoded data removed]",
      "text/plain": [
       "<matplotlib.figure.Figure at 0x11064e4a8>"
      ]
     },
     "metadata": {},
     "output_type": "display_data"
    }
   ],
   "source": [
    "pd.DataFrame.hist(df_mt[(df_mt['Total_Installation_Costs'] < 200000) & (df_mt['Total_Installation_Costs'] > 5000) & \\\n",
    "                        (df_mt['Project_Sector'] == 'Residential') &\\\n",
    "                       (df_mt['Quantity.6'] > 1) ], column = 'Installation_Cost_per_Watt', bins = 50)"
   ]
  },
  {
   "cell_type": "code",
   "execution_count": 101,
   "metadata": {
    "collapsed": false
   },
   "outputs": [
    {
     "data": {
      "text/plain": [
       "array([[<matplotlib.axes._subplots.AxesSubplot object at 0x10c5ab550>]], dtype=object)"
      ]
     },
     "execution_count": 101,
     "metadata": {},
     "output_type": "execute_result"
    },
    {
     "data": {
      "image/png": "[encoded data removed]",
      "text/plain": [
       "<matplotlib.figure.Figure at 0x10cb39f98>"
      ]
     },
     "metadata": {},
     "output_type": "display_data"
    }
   ],
   "source": [
    "pd.DataFrame.hist(df_mt[(df_mt['Total_Installation_Costs'] < 200000) & (df_mt['Total_Installation_Costs'] > 5000) & (df_mt['Project_Sector'] == 'Commercial')], column = 'Installation_Cost_per_Watt', bins = 50)"
   ]
  },
  {
   "cell_type": "code",
   "execution_count": null,
   "metadata": {
    "collapsed": true
   },
   "outputs": [],
   "source": []
  }
 ],
 "metadata": {
  "kernelspec": {
   "display_name": "Python 3",
   "language": "python",
   "name": "python3"
  },
  "language_info": {
   "codemirror_mode": {
    "name": "ipython",
    "version": 3
   },
   "file_extension": ".py",
   "mimetype": "text/x-python",
   "name": "python",
   "nbconvert_exporter": "python",
   "pygments_lexer": "ipython3",
   "version": "3.5.0"
  }
 },
 "nbformat": 4,
 "nbformat_minor": 0
}
