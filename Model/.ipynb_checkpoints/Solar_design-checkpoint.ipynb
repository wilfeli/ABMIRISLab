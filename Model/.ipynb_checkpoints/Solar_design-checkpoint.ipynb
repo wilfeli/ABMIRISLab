{
 "cells": [
  {
   "cell_type": "markdown",
   "metadata": {},
   "source": [
    "# Calculator for project's financials"
   ]
  },
  {
   "cell_type": "code",
   "execution_count": 2,
   "metadata": {
    "collapsed": true
   },
   "outputs": [],
   "source": [
    "import pandas as pd\n",
    "import numpy as np\n",
    "%matplotlib inline\n",
    "import matplotlib.pyplot as plt\n",
    "import matplotlib\n",
    "matplotlib.style.use('ggplot')\n",
    "import math"
   ]
  },
  {
   "cell_type": "code",
   "execution_count": null,
   "metadata": {
    "collapsed": true
   },
   "outputs": [],
   "source": [
    "electricity_consumption = 30 #kWh daily usage\n",
    "panel_efficiency = 0.15 #%\n",
    "solar_radiation = 6.0 #kWh/m2/day\n",
    "degradation = 0.9 #at 10 years?\n",
    "price_per_watt = 5 \n",
    "electricity_consumption_percentage = 0.8\n",
    "DCtoACLoss = 0.2\n",
    "STC_power_rating = 260 #W\n",
    "length = 1665\n",
    "width = 991\n",
    "warranty = 25\n",
    "ElectricityPriceUCDemand = 0.15"
   ]
  },
  {
   "cell_type": "code",
   "execution_count": 59,
   "metadata": {
    "collapsed": true
   },
   "outputs": [],
   "source": [
    "#test for Unit test of SEI\n",
    "electricity_consumption = 30 #kWh daily usage\n",
    "panel_efficiency = 0.156 #%\n",
    "solar_radiation = 5.0 #kWh/m2/day\n",
    "degradation = 0.9 #at 10 years?\n",
    "price_per_watt = 3 #after incentives  \n",
    "electricity_consumption_percentage = 1.0 # options are {0.8, 1.0}\n",
    "DCtoACLoss = 0.2\n",
    "STC_power_rating = 260 #W\n",
    "length = 1665\n",
    "width = 991\n",
    "warranty = 25\n",
    "ElectricityPriceUCDemand = 0.20\n",
    "tax_incentive = 0.3\n",
    "\n",
    "\n",
    "#tiered pricing \n",
    "\n",
    "#lease terms \n",
    "# 'transaction price' or 'capitalized cost'\n",
    "# 'residual value'\n",
    "# interest rate of the lease \n",
    "# length of the lease \n",
    "# monthly payment of the lease \n",
    "#lease terms\n",
    "interest_rate_lease = 0.04 \n",
    "lease_rate_escalation = 0.02 #specific for the lease terms\n",
    "lease_length = 25\n",
    "residual_value = 0.1 #percent of the initial value\n",
    "\n",
    "#loan terms\n",
    "interest_rate_loan = 0.06\n",
    "loan_length = 15\n",
    "\n",
    "\n",
    "#market terms\n",
    "market_interest_rate = 0.02\n",
    "inflation = 0.02 \n"
   ]
  },
  {
   "cell_type": "code",
   "execution_count": 55,
   "metadata": {
    "collapsed": true
   },
   "outputs": [],
   "source": [
    "#Scenario 1 for explanations sheet \n",
    "electricity_consumption = 20 #kWh daily usage\n",
    "panel_efficiency = 0.156 #%\n",
    "solar_radiation = 5.0 #kWh/m2/day\n",
    "degradation = 0.9 #at 10 years?\n",
    "price_per_watt = 3 #after incentives  - medium range quality\n",
    "electricity_consumption_percentage = 2.0 # \n",
    "DCtoACLoss = 0.2\n",
    "STC_power_rating = 260 #W\n",
    "length = 1665\n",
    "width = 991\n",
    "warranty = 25 #change to 20 and propagate\n",
    "ElectricityPriceUCDemand = 0.20\n",
    "tax_incentive = 0.3\n",
    "\n",
    "\n",
    "#tiered pricing \n",
    "\n",
    "#lease terms \n",
    "# 'transaction price' or 'capitalized cost'\n",
    "# 'residual value'\n",
    "# interest rate of the lease \n",
    "# length of the lease \n",
    "# monthly payment of the lease \n",
    "#lease terms\n",
    "interest_rate_lease = 0.04 \n",
    "lease_rate_escalation = 0.02 #specific for the lease terms\n",
    "lease_length = 25\n",
    "residual_value = 0.1 #percent of the initial value\n",
    "\n",
    "#loan terms\n",
    "interest_rate_loan = 0.06\n",
    "loan_length = 15\n",
    "\n",
    "\n",
    "#market terms\n",
    "market_interest_rate = 0.02\n",
    "inflation = 0.02 "
   ]
  },
  {
   "cell_type": "code",
   "execution_count": 78,
   "metadata": {
    "collapsed": false
   },
   "outputs": [],
   "source": [
    "#Scenario 2 for explanations sheet \n",
    "electricity_consumption = 30 #kWh daily usage\n",
    "panel_efficiency = 0.20 #%\n",
    "solar_radiation = 5.0 #kWh/m2/day\n",
    "degradation = 0.9 #at 10 years?\n",
    "price_per_watt = 4 #after incentives  \n",
    "electricity_consumption_percentage = 1.0 #  \n",
    "DCtoACLoss = 0.2\n",
    "length = 1665\n",
    "width = 991\n",
    "warranty = 25\n",
    "ElectricityPriceUCDemand = 0.20\n",
    "tax_incentive = 0.3\n",
    "\n",
    "\n",
    "#technical parameters - calculated(could be stated if double check is needed)\n",
    "STC_power_rating = panel_efficiency * length * width / 1000\n",
    "#print(STC_power_rating)\n",
    "\n",
    "#tiered pricing \n",
    "\n",
    "#lease terms \n",
    "# 'transaction price' or 'capitalized cost'\n",
    "# 'residual value'\n",
    "# interest rate of the lease \n",
    "# length of the lease \n",
    "# monthly payment of the lease \n",
    "#lease terms\n",
    "interest_rate_lease = 0.04 \n",
    "lease_rate_escalation = 0.02 #specific for the lease terms\n",
    "lease_length = 25\n",
    "residual_value = 0.1 #percent of the initial value\n",
    "\n",
    "#loan terms\n",
    "interest_rate_loan = 0.06\n",
    "loan_length = 15\n",
    "\n",
    "\n",
    "#market terms\n",
    "market_interest_rate = 0.02\n",
    "inflation = 0.02 "
   ]
  },
  {
   "cell_type": "code",
   "execution_count": 5,
   "metadata": {
    "collapsed": false
   },
   "outputs": [
    {
     "name": "stdout",
     "output_type": "stream",
     "text": [
      "121.75\n"
     ]
    }
   ],
   "source": [
    "#utility bill- double check for the current set of parameters\n",
    "utility_bill_monthly = electricity_consumption * ElectricityPriceUCDemand * 365.25/12\n",
    "print(utility_bill_monthly)"
   ]
  },
  {
   "cell_type": "code",
   "execution_count": 80,
   "metadata": {
    "collapsed": false
   },
   "outputs": [
    {
     "name": "stderr",
     "output_type": "stream",
     "text": [
      "UsageError: %%latex is a cell magic, but the cell body is empty."
     ]
    }
   ],
   "source": [
    "%%latex\n"
   ]
  },
  {
   "cell_type": "code",
   "execution_count": 44,
   "metadata": {
    "collapsed": false
   },
   "outputs": [],
   "source": [
    "def calculate_design():\n",
    "   \n",
    "    N_PANELS = math.ceil(electricity_consumption * electricity_consumption_percentage / \\\n",
    "                         ((solar_radiation) * panel_efficiency * (length * width/1000000) * ( 1 - DCtoACLoss)))\n",
    "    DC_size = N_PANELS * STC_power_rating / 1000\n",
    "    DC_size = min(10, DC_size)\n",
    "    N_PANELS = DC_size * 1000 / STC_power_rating\n",
    "    AC_size = DC_size * (1 - DCtoACLoss) \n",
    "    total_costs = price_per_watt * DC_size * 1000 #price per watt is after rebate\n",
    "    area = length * width / 1000000 * N_PANELS\n",
    "    \n",
    "    #savings over lifetime\n",
    "    #current efficiency\n",
    "    efficiency_t = panel_efficiency\n",
    "    total_savings = 0\n",
    "    AC_size_t = AC_size\n",
    "    degradation_t = math.exp(math.log(degradation)/10)\n",
    "    years_to_payoff = 0\n",
    "    flag_years_to_payoff = False\n",
    "    potential_costs = 0.0\n",
    "    \n",
    "    #purchase financials\n",
    "    NPV_purchase = - total_costs\n",
    "    \n",
    "    #loan payments\n",
    "    loan_amount = total_costs \n",
    "    N_loan = loan_length * 12\n",
    "    loan_annuity = (interest_rate_loan/12)/(1 - math.pow((1 + interest_rate_loan/12), -N_loan))*loan_amount\n",
    "    \n",
    "    #loan financials\n",
    "    NPV_loan = 0.0\n",
    "    \n",
    "    #aggregate into yearly payments on the lease \n",
    "    #lease financials\n",
    "    total_lease_payments = 0.0\n",
    "    interest_rate_lease_t = interest_rate_lease\n",
    "    \n",
    "    #lease annuity payment in the beginning before escalation\n",
    "    lease_annuity = interest_rate_lease * \\\n",
    "                    (total_costs - total_costs * residual_value / \\\n",
    "                    math.pow(1 + interest_rate_lease_t, lease_length)) / \\\n",
    "                    (1 - math.pow(1 + interest_rate_lease_t, - lease_length))\n",
    "    #initial capitalized cost of the lease\n",
    "    residual_value_t = total_costs\n",
    "    NPV_lease = 0.0\n",
    "    lease_payment_t = lease_annuity\n",
    "    \n",
    "    #initial electricity price\n",
    "    ElectricityPriceUCDemand_t = ElectricityPriceUCDemand\n",
    "    \n",
    "    for i in range(warranty):\n",
    "        #yearly production\n",
    "        production_t = AC_size_t * solar_radiation * 365.25\n",
    "        total_savings = total_savings + production_t * ElectricityPriceUCDemand_t\n",
    "        AC_size_t = AC_size_t * degradation_t\n",
    "        \n",
    "        #NPV of a purchase\n",
    "        NPV_purchase = NPV_purchase + production_t * ElectricityPriceUCDemand_t / math.pow(1 + market_interest_rate, i)\n",
    "        \n",
    "        #NPV loan income part\n",
    "        NPV_loan = NPV_loan + (production_t * ElectricityPriceUCDemand_t) / math.pow(1 + market_interest_rate, i)\n",
    "        \n",
    "        #NPV lease income part\n",
    "        NPV_lease = NPV_lease + (production_t * ElectricityPriceUCDemand_t) / math.pow(1 + market_interest_rate, i)\n",
    "        \n",
    "        \n",
    "        if (i < loan_length):\n",
    "            NPV_loan = NPV_loan - (loan_annuity * 12) / math.pow(1 + market_interest_rate, i)\n",
    "        \n",
    "        \n",
    "        if (i < lease_length):\n",
    "            #calculate principal and interest payment for the lease\n",
    "            #interest payment for the lease at original interest rate\n",
    "            interest_payment_lease_t = residual_value_t * interest_rate_lease\n",
    "            \n",
    "            #principal payment for the lease\n",
    "            principal_payment_lease_t = (lease_annuity - interest_payment_lease_t)\n",
    "            \n",
    "            #new residual value\n",
    "            residual_value_t = residual_value_t - principal_payment_lease_t\n",
    "            \n",
    "            #actual interest rate for the lease\n",
    "            interest_rate_lease_t = (lease_payment_t - principal_payment_lease_t)/residual_value_t\n",
    "            #print(interest_rate_lease_t)\n",
    "            \n",
    "            #NPV of a lease with escalation\n",
    "            NPV_lease = NPV_lease - (lease_payment_t) / math.pow(1 + market_interest_rate, i)\n",
    "        \n",
    "            #total lease payments\n",
    "            total_lease_payments = total_lease_payments + lease_payment_t\n",
    "            \n",
    "            #actual escalate lease payment for the next cycle\n",
    "            lease_payment_t = lease_payment_t * (1 + lease_rate_escalation)\n",
    "#            print(lease_payment_t/12)\n",
    "            \n",
    "            \n",
    "        \n",
    "        if (total_savings >= total_costs) and (not (flag_years_to_payoff)):\n",
    "            flag_years_to_payoff = True\n",
    "            years_to_payoff = i\n",
    "         \n",
    "        #potential costs with electricity price escalation\n",
    "        potential_costs = potential_costs + electricity_consumption * 365.25 * ElectricityPriceUCDemand_t\n",
    "        \n",
    "        #escalation of electricity price\n",
    "        ElectricityPriceUCDemand_t = ElectricityPriceUCDemand_t * (1 + inflation)\n",
    "        \n",
    "    #purchase payments\n",
    "    percent_savings = total_savings / potential_costs\n",
    "    net_savings_purchase = (total_savings - total_costs)/potential_costs    \n",
    "#    print(\"{parameter} : {value_:8.2f}\".format(parameter = 'Potential costs', value_ = potential_costs))\n",
    "    \n",
    "    \n",
    "    #loan analysis\n",
    "    net_savings_loan = (total_savings - loan_annuity * N_loan)/potential_costs\n",
    "#    print(\"{parameter} : {value_:8.2f}\".format(parameter = 'total loan payments', value_ = loan_annuity * N_loan))\n",
    "#    print(\"{parameter} : {value_:8.2f}\".format(parameter = 'monthly loan payment', value_ = loan_annuity))\n",
    "#    print(\"{parameter} : {value_:8.2f}\".format(parameter = 'N loan payments', value_ = N_loan))\n",
    "    \n",
    "    \n",
    "    #lease analysis\n",
    "    net_savings_lease = (total_savings - total_lease_payments)/potential_costs\n",
    "#    print(\"{parameter} : {value_:8.2f}\".format(parameter = 'total lease payments', value_ = total_lease_payments))\n",
    "#    print(\"{parameter} : {value_:8.2f}\".format(parameter = 'N lease payments', value_ = lease_length * 12))\n",
    "    \n",
    "        \n",
    "    #IRR - maybe modified\n",
    "        \n",
    "    \n",
    "\n",
    "    \n",
    " \n",
    "    \n",
    "    \n",
    "    \n",
    "    return {'N_PANELS':N_PANELS, 'DC_size':DC_size, 'AC_size':AC_size, 'total_costs':total_costs, \\\n",
    "           'area':area, 'total_savings':total_savings, 'percent_savings':percent_savings, \\\n",
    "            'net_savings_purchase':net_savings_purchase, \\\n",
    "            'NPV_purchase':NPV_purchase/DC_size/1000, \\\n",
    "            'net_savings_loan':net_savings_loan, \\\n",
    "            'NPV_loan':NPV_loan/DC_size/1000, \\\n",
    "            'net_savings_lease':net_savings_lease, \\\n",
    "            'NPV_lease':NPV_lease/DC_size/1000, \\\n",
    "            'years_to_payoff': years_to_payoff}\n",
    "\n"
   ]
  },
  {
   "cell_type": "code",
   "execution_count": 39,
   "metadata": {
    "collapsed": false
   },
   "outputs": [
    {
     "name": "stdout",
     "output_type": "stream",
     "text": [
      "DC_size :    15.34\n",
      "NPV_loan :    -0.18\n",
      "years_to_payoff :    15.00\n",
      "percent_savings :     1.79\n",
      "NPV_lease :    -1.25\n",
      "net_savings_purchase :     0.70\n",
      "N_PANELS :    59.00\n",
      "AC_size :    12.27\n",
      "area :    97.35\n",
      "net_savings_lease :    -0.37\n",
      "total_costs : 76700.00\n",
      "NPV_purchase :     1.46\n",
      "net_savings_loan :     0.13\n",
      "total_savings : 125518.52\n"
     ]
    }
   ],
   "source": [
    "design = calculate_design()\n",
    "for key, value in design.items():\n",
    "    print(\"{parameter} : {value_:8.2f}\".format(parameter = key, value_ = value))"
   ]
  },
  {
   "cell_type": "code",
   "execution_count": 57,
   "metadata": {
    "collapsed": false
   },
   "outputs": [
    {
     "data": {
      "text/plain": [
       "[<matplotlib.lines.Line2D at 0x10af12f98>]"
      ]
     },
     "execution_count": 57,
     "metadata": {},
     "output_type": "execute_result"
    },
    {
     "data": {
      "image/png": "[encoded data removed]",
      "text/plain": [
       "<matplotlib.figure.Figure at 0x10ae671d0>"
      ]
     },
     "metadata": {},
     "output_type": "display_data"
    }
   ],
   "source": [
    "y = np.zeros(11)\n",
    "x = np.zeros(11)\n",
    "i = 0\n",
    "#draw percent of a bill vs savings graph\n",
    "for step in np.linspace(0.1, 4.0, num=11):\n",
    "    electricity_consumption_percentage = step\n",
    "    #call function, get percent_savings\n",
    "    design = calculate_design()\n",
    "    y[i] = design['net_savings_loan']\n",
    "    x[i] = step\n",
    "    i = i + 1\n",
    "#draw graph\n",
    "plt.plot(x, y)"
   ]
  },
  {
   "cell_type": "code",
   "execution_count": 48,
   "metadata": {
    "collapsed": false
   },
   "outputs": [
    {
     "data": {
      "text/plain": [
       "[<matplotlib.lines.Line2D at 0x10a73d0f0>]"
      ]
     },
     "execution_count": 48,
     "metadata": {},
     "output_type": "execute_result"
    },
    {
     "data": {
      "image/png": "[encoded data removed]",
      "text/plain": [
       "<matplotlib.figure.Figure at 0x10a5e3e80>"
      ]
     },
     "metadata": {},
     "output_type": "display_data"
    }
   ],
   "source": [
    "y = np.zeros(11)\n",
    "x = np.zeros(11)\n",
    "i = 0\n",
    "#draw percent of a bill vs savings graph\n",
    "for step in np.linspace(20, 30, num=11):\n",
    "    electricity_consumption = step\n",
    "    #call function, get percent_savings\n",
    "    design = calculate_design()\n",
    "    y[i] = design['net_savings_loan']\n",
    "    x[i] = step\n",
    "    i = i + 1\n",
    "#draw graph\n",
    "plt.plot(x, y)"
   ]
  },
  {
   "cell_type": "code",
   "execution_count": 50,
   "metadata": {
    "collapsed": false
   },
   "outputs": [
    {
     "data": {
      "text/plain": [
       "[<matplotlib.lines.Line2D at 0x10a8cb438>]"
      ]
     },
     "execution_count": 50,
     "metadata": {},
     "output_type": "execute_result"
    },
    {
     "data": {
      "image/png": "[encoded data removed]",
      "text/plain": [
       "<matplotlib.figure.Figure at 0x10a808160>"
      ]
     },
     "metadata": {},
     "output_type": "display_data"
    }
   ],
   "source": [
    "y = np.zeros(11)\n",
    "x = np.zeros(11)\n",
    "i = 0\n",
    "#draw percent of a bill vs savings graph\n",
    "for step in np.linspace(2.0, 5.0, num=11):\n",
    "    price_per_watt = step\n",
    "    #call function, get percent_savings\n",
    "    design = calculate_design()\n",
    "    y[i] = design['net_savings_loan']\n",
    "    x[i] = step\n",
    "    i = i + 1\n",
    "#draw graph\n",
    "plt.plot(x, y)"
   ]
  },
  {
   "cell_type": "code",
   "execution_count": 53,
   "metadata": {
    "collapsed": false
   },
   "outputs": [
    {
     "data": {
      "text/plain": [
       "[<matplotlib.lines.Line2D at 0x10ab6e7f0>]"
      ]
     },
     "execution_count": 53,
     "metadata": {},
     "output_type": "execute_result"
    },
    {
     "data": {
      "image/png": "[encoded data removed]",
      "text/plain": [
       "<matplotlib.figure.Figure at 0x10aac4b00>"
      ]
     },
     "metadata": {},
     "output_type": "display_data"
    }
   ],
   "source": [
    "y = np.zeros(11)\n",
    "x = np.zeros(11)\n",
    "i = 0\n",
    "#draw percent of a bill vs savings graph\n",
    "for step in np.linspace(0.1, 0.3, num=11):\n",
    "    ElectricityPriceUCDemand = step\n",
    "    #call function, get percent_savings\n",
    "    design = calculate_design()\n",
    "    y[i] = design['net_savings_loan']\n",
    "    x[i] = step\n",
    "    i = i + 1\n",
    "#draw graph\n",
    "plt.plot(x, y)\n"
   ]
  },
  {
   "cell_type": "code",
   "execution_count": 56,
   "metadata": {
    "collapsed": false
   },
   "outputs": [
    {
     "name": "stdout",
     "output_type": "stream",
     "text": [
      "1.5027\n",
      "2.04675\n",
      "2.5908\n",
      "3.13485\n",
      "3.6789\n",
      "4.22295\n",
      "4.767\n",
      "5.31105\n",
      "5.8551\n",
      "6.39915\n",
      "6.9432\n"
     ]
    },
    {
     "data": {
      "text/plain": [
       "[<matplotlib.lines.Line2D at 0x10add7cf8>]"
      ]
     },
     "execution_count": 56,
     "metadata": {},
     "output_type": "execute_result"
    },
    {
     "data": {
      "image/png": "[encoded data removed]",
      "text/plain": [
       "<matplotlib.figure.Figure at 0x10ad7fc88>"
      ]
     },
     "metadata": {},
     "output_type": "display_data"
    }
   ],
   "source": [
    "base_efficiency = 0.15\n",
    "y = np.zeros(11)\n",
    "x = np.zeros(11)\n",
    "i = 0\n",
    "#draw percent of a bill vs savings graph\n",
    "for step in np.linspace(0.15, 0.3, num=11):\n",
    "    price_per_watt = (-1.3126 + step/base_efficiency * 1.8135)*3\n",
    "    print(price_per_watt)\n",
    "    panel_efficiency = step\n",
    "    #call function, get percent_savings\n",
    "    design = calculate_design()\n",
    "    y[i] = design['net_savings_loan']\n",
    "    x[i] = step\n",
    "    i = i + 1\n",
    "#draw graph\n",
    "plt.plot(x, y)"
   ]
  },
  {
   "cell_type": "code",
   "execution_count": 30,
   "metadata": {
    "collapsed": false
   },
   "outputs": [
    {
     "data": {
      "text/plain": [
       "172395.0"
      ]
     },
     "execution_count": 30,
     "metadata": {},
     "output_type": "execute_result"
    }
   ],
   "source": []
  },
  {
   "cell_type": "code",
   "execution_count": null,
   "metadata": {
    "collapsed": true
   },
   "outputs": [],
   "source": []
  }
 ],
 "metadata": {
  "kernelspec": {
   "display_name": "Python 3",
   "language": "python",
   "name": "python3"
  },
  "language_info": {
   "codemirror_mode": {
    "name": "ipython",
    "version": 3
   },
   "file_extension": ".py",
   "mimetype": "text/x-python",
   "name": "python",
   "nbconvert_exporter": "python",
   "pygments_lexer": "ipython3",
   "version": "3.5.0"
  }
 },
 "nbformat": 4,
 "nbformat_minor": 0
}
