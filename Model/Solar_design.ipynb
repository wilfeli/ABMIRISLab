{
 "cells": [
  {
   "cell_type": "code",
   "execution_count": 1,
   "metadata": {
    "collapsed": true
   },
   "outputs": [],
   "source": [
    "import pandas as pd\n",
    "import numpy as np\n",
    "%matplotlib inline\n",
    "import matplotlib.pyplot as plt\n",
    "import matplotlib\n",
    "matplotlib.style.use('ggplot')\n",
    "import math"
   ]
  },
  {
   "cell_type": "code",
   "execution_count": 2,
   "metadata": {
    "collapsed": true
   },
   "outputs": [],
   "source": [
    "electricity_consumption = 30 #kWh daily usage\n",
    "panel_efficiency = 0.15 #%\n",
    "solar_radiation = 6.0 #kWh/m2/day\n",
    "degradation = 0.9 #at 10 years?\n",
    "price_per_watt = 5 \n",
    "electricity_consumption_percentage = 0.8\n",
    "DCtoACLoss = 0.2\n",
    "STC_power_rating = 260 #W\n",
    "length = 1665\n",
    "width = 991\n",
    "warranty = 25\n",
    "ElectricityPriceUCDemand = 0.15"
   ]
  },
  {
   "cell_type": "code",
   "execution_count": 23,
   "metadata": {
    "collapsed": true
   },
   "outputs": [],
   "source": [
    "#test for Unit test of SEI\n",
    "electricity_consumption = 30 #kWh daily usage\n",
    "panel_efficiency = 0.156 #%\n",
    "solar_radiation = 5.0 #kWh/m2/day\n",
    "degradation = 0.9 #at 10 years?\n",
    "price_per_watt = 5.5 \n",
    "electricity_consumption_percentage = 0.8\n",
    "DCtoACLoss = 0.2\n",
    "STC_power_rating = 260 #W\n",
    "length = 1665\n",
    "width = 991\n",
    "warranty = 25\n",
    "ElectricityPriceUCDemand = 0.2"
   ]
  },
  {
   "cell_type": "code",
   "execution_count": 21,
   "metadata": {
    "collapsed": true
   },
   "outputs": [],
   "source": [
    "def calculate_design():\n",
    "   \n",
    "    N_PANELS = math.ceil(electricity_consumption * electricity_consumption_percentage / \\\n",
    "                         ((solar_radiation) * panel_efficiency * (length * width/1000000) * ( 1 - DCtoACLoss)))\n",
    "    DC_size = N_PANELS * STC_power_rating / 1000\n",
    "    AC_size = DC_size * (1 - DCtoACLoss) \n",
    "    total_costs = price_per_watt * DC_size * 1000\n",
    "    area = length * width / 1000000 * N_PANELS\n",
    "    \n",
    "    #savings over lifetime\n",
    "    #current efficiency\n",
    "    efficiency_t = panel_efficiency\n",
    "    total_savings = 0\n",
    "    AC_size_t = AC_size\n",
    "    degradation_t = math.exp(math.log(degradation)/10)\n",
    "    for i in range(warranty):\n",
    "        #yearly production\n",
    "        production_t = AC_size_t * solar_radiation * 365.25\n",
    "        total_savings = total_savings + production_t * ElectricityPriceUCDemand\n",
    "        AC_size_t = AC_size_t * degradation_t\n",
    "    potential_costs = electricity_consumption * 365.25 * ElectricityPriceUCDemand * warranty\n",
    "    percent_savings = total_savings / potential_costs\n",
    "    net_savings = (total_savings - total_costs)/potential_costs\n",
    "    \n",
    "    return {'N_PANELS':N_PANELS, 'DC_size':DC_size, 'AC_size':AC_size, 'total_costs':total_costs, \\\n",
    "           'area':area, 'total_savings':total_savings, 'percent_savings':percent_savings, 'net_savings':net_savings}\n",
    "\n"
   ]
  },
  {
   "cell_type": "code",
   "execution_count": 24,
   "metadata": {
    "collapsed": false
   },
   "outputs": [
    {
     "name": "stdout",
     "output_type": "stream",
     "text": [
      "N_PANELS :    24.00\n",
      "percent_savings :     0.74\n",
      "total_savings : 40285.48\n",
      "area :    39.60\n",
      "AC_size :     4.99\n",
      "net_savings :     0.11\n",
      "total_costs : 34320.00\n",
      "DC_size :     6.24\n"
     ]
    }
   ],
   "source": [
    "design = calculate_design()\n",
    "for key, value in design.items():\n",
    "    print(\"{parameter} : {value_:8.2f}\".format(parameter = key, value_ = value))"
   ]
  },
  {
   "cell_type": "code",
   "execution_count": 38,
   "metadata": {
    "collapsed": false
   },
   "outputs": [
    {
     "data": {
      "text/plain": [
       "[<matplotlib.lines.Line2D at 0x10ede0dd8>]"
      ]
     },
     "execution_count": 38,
     "metadata": {},
     "output_type": "execute_result"
    },
    {
     "data": {
      "image/png": "[encoded data removed]",
      "text/plain": [
       "<matplotlib.figure.Figure at 0x10eab4ba8>"
      ]
     },
     "metadata": {},
     "output_type": "display_data"
    }
   ],
   "source": [
    "y = np.zeros(11)\n",
    "x = np.zeros(11)\n",
    "i = 0\n",
    "#draw percent of a bill vs savings graph\n",
    "for step in np.linspace(0.0, 1.0, num=11):\n",
    "    electricity_bill_percentage = step\n",
    "    #call function, get percent_savings\n",
    "    design = calculate_design()\n",
    "    y[i] = design['net_savings']\n",
    "    x[i] = step\n",
    "    i = i + 1\n",
    "#draw graph\n",
    "plt.plot(x, y)"
   ]
  },
  {
   "cell_type": "code",
   "execution_count": 12,
   "metadata": {
    "collapsed": false
   },
   "outputs": [
    {
     "name": "stdout",
     "output_type": "stream",
     "text": [
      "918.888888888889\n"
     ]
    }
   ],
   "source": [
    "x = 1654/12/0.15\n",
    "print(x)"
   ]
  },
  {
   "cell_type": "code",
   "execution_count": 13,
   "metadata": {
    "collapsed": false
   },
   "outputs": [
    {
     "data": {
      "text/plain": [
       "30.160990033950277"
      ]
     },
     "execution_count": 13,
     "metadata": {},
     "output_type": "execute_result"
    }
   ],
   "source": [
    "918/(365.24/12)"
   ]
  },
  {
   "cell_type": "code",
   "execution_count": null,
   "metadata": {
    "collapsed": true
   },
   "outputs": [],
   "source": []
  }
 ],
 "metadata": {
  "kernelspec": {
   "display_name": "Python 3",
   "language": "python",
   "name": "python3"
  },
  "language_info": {
   "codemirror_mode": {
    "name": "ipython",
    "version": 3
   },
   "file_extension": ".py",
   "mimetype": "text/x-python",
   "name": "python",
   "nbconvert_exporter": "python",
   "pygments_lexer": "ipython3",
   "version": "3.5.0"
  }
 },
 "nbformat": 4,
 "nbformat_minor": 0
}
