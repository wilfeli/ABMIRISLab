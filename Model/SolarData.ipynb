{
 "cells": [
  {
   "cell_type": "code",
   "execution_count": 1,
   "metadata": {
    "collapsed": false
   },
   "outputs": [],
   "source": [
    "import pandas as pd\n",
    "import numpy as np\n",
    "%matplotlib inline\n",
    "import matplotlib.pyplot as plt\n",
    "import matplotlib\n",
    "matplotlib.style.use('ggplot')"
   ]
  },
  {
   "cell_type": "code",
   "execution_count": null,
   "metadata": {
    "collapsed": false
   },
   "outputs": [],
   "source": [
    "#read data, simple transforms\n",
    "df = pd.read_csv(\"../Data/WorkingDataSet_3-16-2016.csv\", low_memory=False)\n",
    "df.ix[:,22] =  pd.to_datetime(df.ix[:,22], infer_datetime_format=True)\n",
    "df['First New Reservation Request Date Year'] = df.ix[:,22].dt.year"
   ]
  },
  {
   "cell_type": "code",
   "execution_count": null,
   "metadata": {
    "collapsed": false
   },
   "outputs": [],
   "source": [
    "#df.head\n",
    "#df.describe()\n",
    "#df.columns\n",
    "#data for San Jose\n",
    "sj_df = df[df.ix[:,18] == \"San Jose\"].copy()"
   ]
  },
  {
   "cell_type": "code",
   "execution_count": null,
   "metadata": {
    "collapsed": false
   },
   "outputs": [],
   "source": [
    "#SEI in San Jose\n",
    "sei_names_sj = sj_df.ix[:,44]\n",
    "sei_n_projects = sei_names_sj.value_counts()"
   ]
  },
  {
   "cell_type": "code",
   "execution_count": null,
   "metadata": {
    "collapsed": false
   },
   "outputs": [],
   "source": [
    "#transform to the date format\n",
    "sj_df.ix[:,22] =  pd.to_datetime(sj_df.ix[:,22], infer_datetime_format=True)\n",
    "#see time range\n",
    "#sj_df.ix[:,22].min()\n",
    "#sj_df.ix[:,22].max()\n",
    "#take year only\n",
    "sj_df['First New Reservation Request Date Year'] = sj_df.ix[:,22].dt.year"
   ]
  },
  {
   "cell_type": "code",
   "execution_count": null,
   "metadata": {
    "collapsed": false
   },
   "outputs": [],
   "source": [
    "#select project for the biggest SEI\n",
    "#sei_df = sj_df[sj_df.ix[:,44] == \"PETERSEN-DEAN INC. dba PETERSENDEAN\"] - direct call\n",
    "sei_df = sj_df[sj_df.ix[:,44] == sei_n_projects.index[0]]"
   ]
  },
  {
   "cell_type": "code",
   "execution_count": null,
   "metadata": {
    "collapsed": false
   },
   "outputs": [],
   "source": [
    "#number of projects per year\n",
    "sei_df['First New Reservation Request Date Year'].value_counts()"
   ]
  },
  {
   "cell_type": "code",
   "execution_count": null,
   "metadata": {
    "collapsed": false
   },
   "outputs": [],
   "source": [
    "#type of a project\n",
    "project_types_sj = sj_df.ix[:,2]\n",
    "project_types_sj.value_counts()"
   ]
  },
  {
   "cell_type": "code",
   "execution_count": null,
   "metadata": {
    "collapsed": false
   },
   "outputs": [],
   "source": [
    "#type of a project\n",
    "project_types_sj = sj_df.ix[:,15]\n",
    "project_types_sj.value_counts()"
   ]
  },
  {
   "cell_type": "code",
   "execution_count": null,
   "metadata": {
    "collapsed": false
   },
   "outputs": [],
   "source": [
    "#type of a project\n",
    "project_types_sj = sj_df.ix[:,17]\n",
    "project_types_sj.value_counts()"
   ]
  },
  {
   "cell_type": "code",
   "execution_count": null,
   "metadata": {
    "collapsed": false
   },
   "outputs": [],
   "source": [
    "#column names \n",
    "i = 0\n",
    "for column in sj_df.columns:\n",
    "    print((i, column))\n",
    "    i += 1"
   ]
  },
  {
   "cell_type": "code",
   "execution_count": null,
   "metadata": {
    "collapsed": false
   },
   "outputs": [],
   "source": [
    "#modules in use\n",
    "module_types = sj_df['PV Module#1 Model']\n",
    "module_types.value_counts()"
   ]
  },
  {
   "cell_type": "code",
   "execution_count": null,
   "metadata": {
    "collapsed": false
   },
   "outputs": [],
   "source": [
    "#modules in use whole data set\n",
    "df['PV Module#1 Model'].value_counts()"
   ]
  },
  {
   "cell_type": "code",
   "execution_count": 2,
   "metadata": {
    "collapsed": false
   },
   "outputs": [],
   "source": [
    "#read data\n",
    "df1 = pd.read_csv(\"../Data/NEM_CurrentlyInterconnectedDataset_2016-01-31.csv\", low_memory=False)\n"
   ]
  },
  {
   "cell_type": "code",
   "execution_count": 21,
   "metadata": {
    "collapsed": false
   },
   "outputs": [
    {
     "name": "stdout",
     "output_type": "stream",
     "text": [
      "(0, 'Application Id')\n",
      "(1, 'Matched CSI Application Number')\n",
      "(2, 'Utility')\n",
      "(3, 'Service City')\n",
      "(4, 'Service Zip')\n",
      "(5, 'Service County')\n",
      "(6, 'Technology Type')\n",
      "(7, 'System Size DC')\n",
      "(8, 'System Size AC')\n",
      "(9, 'Tilt')\n",
      "(10, 'Azimuth')\n",
      "(11, 'Mounting Method')\n",
      "(12, 'Tracking')\n",
      "(13, 'Customer Sector')\n",
      "(14, 'App Received Date')\n",
      "(15, 'App Complete Date')\n",
      "(16, 'App Approved Date')\n",
      "(17, 'Self Installer')\n",
      "(18, 'Installer Name')\n",
      "(19, 'Installer Phone')\n",
      "(20, 'Installer City')\n",
      "(21, 'Installer State')\n",
      "(22, 'Installer Zip')\n",
      "(23, 'Third Party Owned')\n",
      "(24, 'Third Party Owned Type')\n",
      "(25, 'Third Party Name')\n",
      "(26, 'Pace Financed')\n",
      "(27, 'Pace Financier')\n",
      "(28, 'Electric Vehicle')\n",
      "(29, 'Electric Vehicle Count')\n",
      "(30, 'System Output Monitoring')\n",
      "(31, 'System Output Reports To Vendor?')\n",
      "(32, 'System Output Monitoring Provider')\n",
      "(33, 'Total System Cost')\n",
      "(34, 'Itc Cost Basis')\n",
      "(35, 'Previous Application')\n",
      "(36, 'Previous Application Ids')\n",
      "(37, 'Application Status')\n",
      "(38, 'Project is VNEM, NEM-V, NEM-Agg?')\n",
      "(39, 'VNEM, NEM-V, NEM-Agg')\n",
      "(40, 'Module Model 1')\n",
      "(41, 'Module Manufacturer 1')\n",
      "(42, 'Module Quantity 1')\n",
      "(43, 'Module Model 2')\n",
      "(44, 'Module Manufacturer 2')\n",
      "(45, 'Module Quantity 2')\n",
      "(46, 'Module Model 3')\n",
      "(47, 'Module Manufacturer 3')\n",
      "(48, 'Module Quantity 3')\n",
      "(49, 'Module Model 4')\n",
      "(50, 'Module Manufacturer 4')\n",
      "(51, 'Module Quantity 4')\n",
      "(52, 'Module Model 5')\n",
      "(53, 'Module Manufacturer 5')\n",
      "(54, 'Module Quantity 5')\n",
      "(55, 'Module Model 6')\n",
      "(56, 'Module Manufacturer 6')\n",
      "(57, 'Module Quantity 6')\n",
      "(58, 'Module Model 7')\n",
      "(59, 'Module Manufacturer 7')\n",
      "(60, 'Module Quantity 7')\n",
      "(61, 'Module Model 8')\n",
      "(62, 'Module Manufacturer 8')\n",
      "(63, 'Module Quantity 8')\n",
      "(64, 'Module Model 9')\n",
      "(65, 'Module Manufacturer 9')\n",
      "(66, 'Module Quantity 9')\n",
      "(67, 'Module Model 10')\n",
      "(68, 'Module Manufacturer 10')\n",
      "(69, 'Module Quantity 10')\n",
      "(70, 'Inverter Model 1')\n",
      "(71, 'Inverter Manufacturer 1')\n",
      "(72, 'Inverter Quantity 1')\n",
      "(73, 'Inverter Model 2')\n",
      "(74, 'Inverter Manufacturer 2')\n",
      "(75, 'Inverter Quantity 2')\n",
      "(76, 'Inverter Model 3')\n",
      "(77, 'Inverter Manufacturer 3')\n",
      "(78, 'Inverter Quantity 3')\n",
      "(79, 'Inverter Model 4')\n",
      "(80, 'Inverter Manufacturer 4')\n",
      "(81, 'Inverter Quantity 4')\n",
      "(82, 'Inverter Model 5')\n",
      "(83, 'Inverter Manufacturer 5')\n",
      "(84, 'Inverter Quantity 5')\n",
      "(85, 'Inverter Model 6')\n",
      "(86, 'Inverter Manufacturer 6')\n",
      "(87, 'Inverter Quantity 6')\n",
      "(88, 'Inverter Model 7')\n",
      "(89, 'Inverter Manufacturer 7')\n",
      "(90, 'Inverter Quantity 7')\n",
      "(91, 'Inverter Model 8')\n",
      "(92, 'Inverter Manufacturer 8')\n",
      "(93, 'Inverter Quantity 8')\n",
      "(94, 'Inverter Model 9')\n",
      "(95, 'Inverter Manufacturer 9')\n",
      "(96, 'Inverter Quantity 9')\n",
      "(97, 'Inverter Model 10')\n",
      "(98, 'Inverter Manufacturer 10')\n",
      "(99, 'Inverter Quantity 10')\n",
      "(100, 'Inverter Model 11')\n",
      "(101, 'Inverter Manufacturer 11')\n",
      "(102, 'Inverter Quantity 11')\n",
      "(103, 'App Complete Date Year')\n"
     ]
    }
   ],
   "source": [
    "#column labels\n",
    "i = 0\n",
    "for column in df1.columns:\n",
    "    print((i, column))\n",
    "    i += 1"
   ]
  },
  {
   "cell_type": "code",
   "execution_count": 3,
   "metadata": {
    "collapsed": true
   },
   "outputs": [],
   "source": [
    "#get year from date\n",
    "df1.ix[:,15] =  pd.to_datetime(df1.ix[:,15], infer_datetime_format=True)\n",
    "df1['App Complete Date Year'] = df1.ix[:,15].dt.year"
   ]
  },
  {
   "cell_type": "code",
   "execution_count": 4,
   "metadata": {
    "collapsed": false
   },
   "outputs": [
    {
     "data": {
      "text/plain": [
       "REC260PE              16951\n",
       "KU265-6ZPA             8206\n",
       "YL255P-29b             6008\n",
       "KU260-6XPA             5367\n",
       "SPR-327NE-WHT-D        4211\n",
       "SW 280 Mono Black      3841\n",
       "SPR-E20-327            3605\n",
       "REC260PE(BLK)          3113\n",
       "YL250P-29b             2877\n",
       "SPR-X21-345            2636\n",
       "SW 285 Mono            2428\n",
       "TSM-255PA05.18         1952\n",
       "REC275TP               1952\n",
       "LG280S1C-B3            1915\n",
       "SW 275 Mono Black      1519\n",
       "LG305N1C-B3            1388\n",
       "CS6P-260P              1334\n",
       "CS6P-255P              1274\n",
       "PM250M01_265           1179\n",
       "SPR-230NE-BLK-D        1163\n",
       "REC260PE Z-LINK        1144\n",
       "SW250 Poly             1141\n",
       "Q.PRO BFR - G3 260     1107\n",
       "TSM-250PA05.05         1103\n",
       "KU255-6XCA              993\n",
       "TSM-260PD05.08          956\n",
       "SW 280 mono             893\n",
       "SW 280 Mono             865\n",
       "TSM-250PA05.18          799\n",
       "PM245P01_255            787\n",
       "                      ...  \n",
       "ESP6-72-300/SI            1\n",
       "285 mono                  1\n",
       "LS250-60M-B               1\n",
       "Conergy P 235PA           1\n",
       "LW250(29)P1640x990        1\n",
       "HSL60P6-PC-3-250          1\n",
       "Wiosun PVT 180            1\n",
       "REC280TP BLK Q2           1\n",
       "TSM-305PA14.18            1\n",
       "SL2-F 120W                1\n",
       "STP260-24/Vb-1            1\n",
       "VBHN240SA06               1\n",
       "AXN-P6T230                1\n",
       "REC215PE                  1\n",
       "MPE 235 PS 09             1\n",
       "EC-115                    1\n",
       "HSL72P6-PB-0-300T         1\n",
       "TSM-230PA05.30            1\n",
       "HSL72P6-PB-2-305Q         1\n",
       "ET-M660250BB ..           1\n",
       "SPR-X20-255               1\n",
       "TSM-240PA05.10            1\n",
       "CS6P-255MX                1\n",
       "9T6 420                   1\n",
       "SPR-230-WHT-U             1\n",
       "ET-M660250BB              1\n",
       "LG260S1W-G3               1\n",
       "JC255M-24/Bb-b            1\n",
       "WTW-250-1-AC2-D-B         1\n",
       "ITS270Myz2                1\n",
       "Name: Module Model 1, dtype: int64"
      ]
     },
     "execution_count": 4,
     "metadata": {},
     "output_type": "execute_result"
    }
   ],
   "source": [
    "#modules in use\n",
    "df1[df1['App Complete Date Year'] > 2014]['Module Model 1'].value_counts()"
   ]
  },
  {
   "cell_type": "code",
   "execution_count": null,
   "metadata": {
    "collapsed": false
   },
   "outputs": [],
   "source": [
    "#biggest installers in 2015-2016\n",
    "df1[df1['App Complete Date Year'] > 2014]['Installer Name'].value_counts()"
   ]
  },
  {
   "cell_type": "code",
   "execution_count": 5,
   "metadata": {
    "collapsed": false
   },
   "outputs": [
    {
     "data": {
      "text/plain": [
       "<bound method DataFrame.count of                             Installer Name\n",
       "239     Talbott Solar & Radiant Homes Inc.\n",
       "1913       SolarCity Corporation - Tiffany\n",
       "1914       SolarCity Corporation - Tiffany\n",
       "1915       SolarCity Corporation - Tiffany\n",
       "1916       SolarCity Corporation - Tiffany\n",
       "1919       SolarCity Corporation - Tiffany\n",
       "1926       SolarCity Corporation - Tiffany\n",
       "1929       SolarCity Corporation - Tiffany\n",
       "1931       SolarCity Corporation - Tiffany\n",
       "1938       SolarCity Corporation - Tiffany\n",
       "1946       SolarCity Corporation - Tiffany\n",
       "1947       SolarCity Corporation - Tiffany\n",
       "1949       SolarCity Corporation - Tiffany\n",
       "1951       SolarCity Corporation - Tiffany\n",
       "1953       SolarCity Corporation - Tiffany\n",
       "1955       SolarCity Corporation - Tiffany\n",
       "1957       SolarCity Corporation - Tiffany\n",
       "1962       SolarCity Corporation - Tiffany\n",
       "1963       SolarCity Corporation - Tiffany\n",
       "1964       SolarCity Corporation - Tiffany\n",
       "1968       SolarCity Corporation - Tiffany\n",
       "1970       SolarCity Corporation - Tiffany\n",
       "1971       SolarCity Corporation - Tiffany\n",
       "1981       SolarCity Corporation - Tiffany\n",
       "1982       SolarCity Corporation - Tiffany\n",
       "1983       SolarCity Corporation - Tiffany\n",
       "1985       SolarCity Corporation - Tiffany\n",
       "1990       SolarCity Corporation - Tiffany\n",
       "2001       SolarCity Corporation - Tiffany\n",
       "2002       SolarCity Corporation - Tiffany\n",
       "...                                    ...\n",
       "452647                           SolarCity\n",
       "452648                  Clean Energy Solar\n",
       "452649                           SolarCity\n",
       "452650         Built Green California Inc.\n",
       "452651                  Solare Energy, Inc\n",
       "452653                           SolarCity\n",
       "452654                Baker Electric, Inc.\n",
       "452655                         SolarCityMH\n",
       "452656                       T and M Solar\n",
       "452657                           SolarCity\n",
       "452658                         SolarCityMH\n",
       "452659                           SolarCity\n",
       "452660                           SolarCity\n",
       "452661                  Solare Energy, Inc\n",
       "452662                        Custom Solar\n",
       "452664              Solaire Energy Systems\n",
       "452665           Green Homes of California\n",
       "452666                           SolarCity\n",
       "452667                Delta Solar Electric\n",
       "452668                       T and M Solar\n",
       "452669                     REC Solar, Inc.\n",
       "452671                           SolarCity\n",
       "452672                           SolarCity\n",
       "452673                Delta Solar Electric\n",
       "452674                           SolarCity\n",
       "452675                           SolarCity\n",
       "452676                           SolarCity\n",
       "452677     Semper Solaris Construction Inc\n",
       "452678                           SolarCity\n",
       "452679                           SolarCity\n",
       "\n",
       "[147157 rows x 1 columns]>"
      ]
     },
     "execution_count": 5,
     "metadata": {},
     "output_type": "execute_result"
    }
   ],
   "source": [
    "#selection for SolarCity\n",
    "solarcity_names = ['SolarCity Corporation', 'SolarCity', 'SolarCityMH', 'SOLARCITY', 'solarcity']\n",
    "df1[(df1['App Complete Date Year'] > 2014) & (df1['Installer Name'].isin(solarcity_names))][['Installer Name']].count\n",
    "#df1[(df1['App Complete Date Year'] > 2014)][['Installer Name']].count"
   ]
  },
  {
   "cell_type": "code",
   "execution_count": null,
   "metadata": {
    "collapsed": false
   },
   "outputs": [],
   "source": [
    "#number of projects over the years\n",
    "df1['App Complete Date Year'].value_counts()"
   ]
  },
  {
   "cell_type": "code",
   "execution_count": 6,
   "metadata": {
    "collapsed": true
   },
   "outputs": [],
   "source": [
    "#selection for SolarCity\n",
    "ss_df = df1[(df1['App Complete Date Year'] > 2014) & (df1['Installer Name'].isin(solarcity_names))]"
   ]
  },
  {
   "cell_type": "code",
   "execution_count": null,
   "metadata": {
    "collapsed": true
   },
   "outputs": [],
   "source": [
    "#check dataframe\n",
    "ss_df.describe()\n",
    "ss_df.shape\n",
    "ss_df.head()"
   ]
  },
  {
   "cell_type": "code",
   "execution_count": null,
   "metadata": {
    "collapsed": false
   },
   "outputs": [],
   "source": [
    "#most common module\n",
    "ss_df['Module Model 1'].value_counts()"
   ]
  },
  {
   "cell_type": "code",
   "execution_count": null,
   "metadata": {
    "collapsed": false
   },
   "outputs": [],
   "source": [
    "#most common manufacturer\n",
    "ss_df['Module Manufacturer 1'].value_counts()"
   ]
  },
  {
   "cell_type": "code",
   "execution_count": 26,
   "metadata": {
    "collapsed": false
   },
   "outputs": [],
   "source": [
    "ss_df = ss_df[(ss_df.T != 0).all()]\n",
    "ss_df['Price_per_Watt'] = ss_df['Total System Cost']/ss_df['System Size DC']/1000"
   ]
  },
  {
   "cell_type": "code",
   "execution_count": 27,
   "metadata": {
    "collapsed": false
   },
   "outputs": [
    {
     "data": {
      "text/plain": [
       "<matplotlib.axes._subplots.AxesSubplot at 0x1125e9e48>"
      ]
     },
     "execution_count": 27,
     "metadata": {},
     "output_type": "execute_result"
    },
    {
     "data": {
      "image/png": "[encoded data removed]",
      "text/plain": [
       "<matplotlib.figure.Figure at 0x112428198>"
      ]
     },
     "metadata": {},
     "output_type": "display_data"
    }
   ],
   "source": [
    "ss_df['Price_per_Watt'][ss_df['Total System Cost'] < 180000].hist()"
   ]
  },
  {
   "cell_type": "code",
   "execution_count": 29,
   "metadata": {
    "collapsed": false
   },
   "outputs": [
    {
     "data": {
      "text/plain": [
       "count    6475.000000\n",
       "mean        5.580059\n",
       "std         0.604666\n",
       "min         0.000058\n",
       "25%         5.661630\n",
       "50%         5.681605\n",
       "75%         5.715758\n",
       "max         9.807767\n",
       "Name: Price_per_Watt, dtype: float64"
      ]
     },
     "execution_count": 29,
     "metadata": {},
     "output_type": "execute_result"
    }
   ],
   "source": [
    "ss_df['Price_per_Watt'][ss_df['Price_per_Watt'] < 10].describe()"
   ]
  },
  {
   "cell_type": "code",
   "execution_count": 7,
   "metadata": {
    "collapsed": false
   },
   "outputs": [
    {
     "data": {
      "text/plain": [
       "<matplotlib.axes._subplots.AxesSubplot at 0x10f391128>"
      ]
     },
     "execution_count": 7,
     "metadata": {},
     "output_type": "execute_result"
    },
    {
     "data": {
      "image/png": "[encoded data removed]",
      "text/plain": [
       "<matplotlib.figure.Figure at 0x10f3917b8>"
      ]
     },
     "metadata": {},
     "output_type": "display_data"
    }
   ],
   "source": [
    "#dataframe for most popular module\n",
    "ss_rec260pe_df = ss_df[ss_df['Module Model 1'] == 'REC260PE']\n",
    "ss_rec260pe_df['System Size DC'].hist()"
   ]
  },
  {
   "cell_type": "code",
   "execution_count": 8,
   "metadata": {
    "collapsed": false
   },
   "outputs": [],
   "source": [
    "#ols models\n",
    "import statsmodels.formula.api as sm"
   ]
  },
  {
   "cell_type": "code",
   "execution_count": 9,
   "metadata": {
    "collapsed": false
   },
   "outputs": [],
   "source": [
    "#rename columns - no spaces\n",
    "ss_rec260pe_df=ss_rec260pe_df.rename(columns={\"System Size DC\": \"System_Size_DC\", \"Total System Cost\":\"Total_System_Cost\"})\n",
    "ss_rec260pe_df=ss_rec260pe_df.rename(columns={\"Module Quantity 1\": \"Module_Quantity_1\", \"Service Zip\": \"Service_Zip\", \"Inverter Model 1\":\"Inverter_Model_1\"})\n",
    "ss_rec260pe_df=ss_rec260pe_df.rename(columns={\"Inverter Quantity 1\": \"Inverter_Quantity_1\"})"
   ]
  },
  {
   "cell_type": "code",
   "execution_count": 10,
   "metadata": {
    "collapsed": false
   },
   "outputs": [],
   "source": [
    "#rename columns - no spaces\n",
    "ss_rec260pe_df=ss_rec260pe_df.rename(columns={\"Customer Sector\": \"Customer_Sector\"})\n",
    "ss_rec260pe_df=ss_rec260pe_df.rename(columns={\"System Size AC\": \"System_Size_AC\"})\n",
    "ss_rec260pe_df=ss_rec260pe_df.rename(columns={\"Service County\": \"Service_County\"})\n",
    "ss_rec260pe_df=ss_rec260pe_df.rename(columns={\"Service City\": \"Service_City\"})\n",
    "ss_rec260pe_df=ss_rec260pe_df.rename(columns={\"Installer Zip\": \"Installer_Zip\"})"
   ]
  },
  {
   "cell_type": "code",
   "execution_count": 11,
   "metadata": {
    "collapsed": false
   },
   "outputs": [],
   "source": [
    "#short data set for ols estimation\n",
    "ss_rec260pe_df_short = ss_rec260pe_df[['Total_System_Cost', 'System_Size_DC', 'System_Size_AC', 'Service_Zip', 'Inverter_Model_1', 'Module_Quantity_1', \\\n",
    "                                       'Inverter_Quantity_1', 'Tracking', 'Customer_Sector', 'Utility', 'Service_County', 'Service_City', 'Installer_Zip']]\n",
    "ss_rec260pe_df_ols = ss_rec260pe_df_short.dropna()\n",
    "ss_rec260pe_df_ols = ss_rec260pe_df_ols.copy()\n",
    "#drop rows with at least one zero\n",
    "ss_rec260pe_df_ols = ss_rec260pe_df_ols[(ss_rec260pe_df_ols.T != 0).all()]\n",
    "ss_rec260pe_df_ols = ss_rec260pe_df_ols[(ss_rec260pe_df_ols[\"Service_Zip\"] > 10000.0)]\n",
    "ss_rec260pe_df_ols[\"Service_Zip_Cat\"] = ss_rec260pe_df_ols[\"Service_Zip\"].astype(int).astype('category')\n",
    "ss_rec260pe_df_ols[\"Inverter_Model_1_Cat\"] = ss_rec260pe_df_ols[\"Inverter_Model_1\"].astype('category')\n",
    "ss_rec260pe_df_ols[\"Tracking_Cat\"] = ss_rec260pe_df_ols[\"Tracking\"].astype('category')\n",
    "ss_rec260pe_df_ols[\"Utility_Cat\"] = ss_rec260pe_df_ols[\"Utility\"].astype('category')\n",
    "#create dummies for zip code, not used for now\n",
    "ss_rec260pe_df_ols_dummies = pd.get_dummies(ss_rec260pe_df_ols[\"Service_Zip_Cat\"], prefix='zipd')"
   ]
  },
  {
   "cell_type": "code",
   "execution_count": 12,
   "metadata": {
    "collapsed": false
   },
   "outputs": [
    {
     "name": "stdout",
     "output_type": "stream",
     "text": [
      "                            OLS Regression Results                            \n",
      "==============================================================================\n",
      "Dep. Variable:      Total_System_Cost   R-squared:                       0.961\n",
      "Model:                            OLS   Adj. R-squared:                  0.960\n",
      "Method:                 Least Squares   F-statistic:                     871.0\n",
      "Date:                Mon, 04 Apr 2016   Prob (F-statistic):               0.00\n",
      "Time:                        08:57:43   Log-Likelihood:                -23414.\n",
      "No. Observations:                2527   AIC:                         4.697e+04\n",
      "Df Residuals:                    2457   BIC:                         4.738e+04\n",
      "Df Model:                          69                                         \n",
      "Covariance Type:            nonrobust                                         \n",
      "=================================================================================================================================\n",
      "                                                                    coef    std err          t      P>|t|      [95.0% Conf. Int.]\n",
      "---------------------------------------------------------------------------------------------------------------------------------\n",
      "Intercept                                                       -19.4944   1518.788     -0.013      0.990     -2997.731  2958.742\n",
      "C(Utility)[T.SCE]                                             -2079.0694    288.130     -7.216      0.000     -2644.072 -1514.067\n",
      "C(Utility)[T.SDGE]                                            -2848.9203    521.393     -5.464      0.000     -3871.335 -1826.505\n",
      "C(Inverter_Model_1)[T.Fronius Primo 3.8-1 @ 240 VAC]            915.4816   1998.329      0.458      0.647     -3003.102  4834.065\n",
      "C(Inverter_Model_1)[T.Fronius Primo 3.8-1 @ 240 VAC (240V)]     195.9642   1500.408      0.131      0.896     -2746.231  3138.159\n",
      "C(Inverter_Model_1)[T.Fronius Primo 5.0-1 @ 240 VAC]           1352.0391   1853.862      0.729      0.466     -2283.254  4987.332\n",
      "C(Inverter_Model_1)[T.Fronius Primo 5.0-1 @ 240 VAC (240V)]     356.5359   1511.140      0.236      0.814     -2606.703  3319.775\n",
      "C(Inverter_Model_1)[T.Fronius Primo 6.0-1 @ 208 VAC (208V)]     531.2753   2997.506      0.177      0.859     -5346.624  6409.175\n",
      "C(Inverter_Model_1)[T.Fronius Primo 6.0-1 @ 240 VAC]          -5033.3928   3108.814     -1.619      0.106     -1.11e+04  1062.774\n",
      "C(Inverter_Model_1)[T.Fronius Primo 6.0-1 @ 240 VAC (240V)]     547.9560   1519.508      0.361      0.718     -2431.692  3527.604\n",
      "C(Inverter_Model_1)[T.Fronius Primo 7.6-1 @ 240 VAC]           1605.8576   1860.497      0.863      0.388     -2042.446  5254.161\n",
      "C(Inverter_Model_1)[T.Fronius Primo 7.6-1 @ 240 VAC (240V)]    1405.4549   1525.974      0.921      0.357     -1586.874  4397.784\n",
      "C(Inverter_Model_1)[T.Fronius Primo 8.2-1 @ 240 VAC (240V)]    1973.0343   1647.059      1.198      0.231     -1256.734  5202.802\n",
      "C(Inverter_Model_1)[T.IG Plus 10.0-240]                        6848.4126   3065.309      2.234      0.026       837.557  1.29e+04\n",
      "C(Inverter_Model_1)[T.IG Plus 10.0-240 (240V)]                 2598.4351   3010.537      0.863      0.388     -3305.017  8501.888\n",
      "C(Inverter_Model_1)[T.IG Plus 11.4-240 (240V)]                 3394.8683   3015.854      1.126      0.260     -2519.010  9308.747\n",
      "C(Inverter_Model_1)[T.IG Plus 7.5-240 (240V)]                  7506.4648   3116.481      2.409      0.016      1395.264  1.36e+04\n",
      "C(Inverter_Model_1)[T.IG Plus A 10.0-240]                        62.4478   3041.899      0.021      0.984     -5902.504  6027.400\n",
      "C(Inverter_Model_1)[T.IG Plus A 10.0-240 (240V)]               3440.1198   1868.939      1.841      0.066      -224.738  7104.977\n",
      "C(Inverter_Model_1)[T.IG Plus A 11.4-240 (240V)]               3016.3571   1862.759      1.619      0.106      -636.382  6669.096\n",
      "C(Inverter_Model_1)[T.IG Plus A 7.5-240]                       -677.0206   3049.231     -0.222      0.824     -6656.349  5302.308\n",
      "C(Inverter_Model_1)[T.IG Plus A 7.5-240 (240V)]                 537.2749   2371.384      0.227      0.821     -4112.843  5187.393\n",
      "C(Inverter_Model_1)[T.IG Plus V 3.0-240]                      -1.624e+04   2999.340     -5.413      0.000     -2.21e+04 -1.04e+04\n",
      "C(Inverter_Model_1)[T.M215-60-2LL-S2x]                        -6664.6919   2996.207     -2.224      0.026     -1.25e+04  -789.340\n",
      "C(Inverter_Model_1)[T.MICRO-0.3-I-OUTD-US-240 (240V)]          -109.4427   2996.128     -0.037      0.971     -5984.640  5765.754\n",
      "C(Inverter_Model_1)[T.PVI 3.0 OUTD-S-US-Z-M (240V)]              92.9582   1893.577      0.049      0.961     -3620.214  3806.130\n",
      "C(Inverter_Model_1)[T.PVI 3.0 OUTD-S-US-Z-M-A (240V)]            58.5310   1581.095      0.037      0.970     -3041.885  3158.947\n",
      "C(Inverter_Model_1)[T.PVI 3.6 OUTD-S-US-Z-M-A (240V)]           170.7067   1834.698      0.093      0.926     -3427.007  3768.421\n",
      "C(Inverter_Model_1)[T.PVI 4.2 OUTD-S-US-Z-M (240V)]              11.4948   2994.550      0.004      0.997     -5860.607  5883.597\n",
      "C(Inverter_Model_1)[T.PVI 4.2 OUTD-S-US-Z-M-A (240V)]            82.7617   1791.122      0.046      0.963     -3429.503  3595.027\n",
      "C(Inverter_Model_1)[T.PVI 5000 OUTD-US-Z-M-A (240V)]            190.1252   1983.507      0.096      0.924     -3699.393  4079.643\n",
      "C(Inverter_Model_1)[T.PVI 6000 OUTD-US-Z-M-A (240V)]            416.7258   2996.765      0.139      0.889     -5459.720  6293.171\n",
      "C(Inverter_Model_1)[T.PVI-3.0-OUTD-S-US (240V)]                -2.76e+04   3009.623     -9.169      0.000     -3.35e+04 -2.17e+04\n",
      "C(Inverter_Model_1)[T.PVI-3.0-OUTD-S-US-A (240V)]               -58.4265   2367.378     -0.025      0.980     -4700.689  4583.836\n",
      "C(Inverter_Model_1)[T.PVI-3.0-OUTD-S-US-Z-A (240V)]            -118.9414   1503.275     -0.079      0.937     -3066.759  2828.877\n",
      "C(Inverter_Model_1)[T.PVI-3.6-OUTD-S-US (240 V)]              -1.073e+04   2122.496     -5.057      0.000     -1.49e+04 -6571.394\n",
      "C(Inverter_Model_1)[T.PVI-3.6-OUTD-S-US-Z-A (240V)]             176.8861   1510.185      0.117      0.907     -2784.481  3138.253\n",
      "C(Inverter_Model_1)[T.PVI-3.6-OUTD-US (240 V)]                 -228.3326   3031.558     -0.075      0.940     -6173.005  5716.340\n",
      "C(Inverter_Model_1)[T.PVI-3.8-OUTD-S-US-Z-A (240V)]             182.8477   2995.082      0.061      0.951     -5690.299  6055.994\n",
      "C(Inverter_Model_1)[T.PVI-4.2-OUTD-S-US (240V)]                 182.8477   2995.082      0.061      0.951     -5690.299  6055.994\n",
      "C(Inverter_Model_1)[T.PVI-4.2-OUTD-S-US-Z (240V)]               110.2948   2994.550      0.037      0.971     -5761.807  5982.397\n",
      "C(Inverter_Model_1)[T.PVI-4.2-OUTD-S-US-Z-A (240V)]             -37.9455   1522.613     -0.025      0.980     -3023.682  2947.791\n",
      "C(Inverter_Model_1)[T.PVI-5000-OUTD-S-US-Z-A (240 V)]           781.4961   3007.466      0.260      0.795     -5115.934  6678.926\n",
      "C(Inverter_Model_1)[T.PVI-5000-OUTD-S-US-Z-A (240V)]            638.0487   1572.138      0.406      0.685     -2444.803  3720.901\n",
      "C(Inverter_Model_1)[T.PVI-5000-OUTD-US (208V)]                  226.7102   3009.122      0.075      0.940     -5673.968  6127.388\n",
      "C(Inverter_Model_1)[T.PVI-5000-OUTD-US (240V)]                 3.461e+04   3003.090     11.524      0.000      2.87e+04  4.05e+04\n",
      "C(Inverter_Model_1)[T.PVI-5000-OUTD-US-Z-A (240V)]              502.8920   1524.902      0.330      0.742     -2487.334  3493.118\n",
      "C(Inverter_Model_1)[T.PVI-6000-OUTD-S-US-Z-A (240V)]            993.7978   1551.137      0.641      0.522     -2047.872  4035.468\n",
      "C(Inverter_Model_1)[T.PVI-6000-OUTD-US (240V)]                 -166.3256   3013.942     -0.055      0.956     -6076.454  5743.803\n",
      "C(Inverter_Model_1)[T.PVI-6000-OUTD-US-Z-A (240V)]             1447.5885   1536.515      0.942      0.346     -1565.410  4460.587\n",
      "C(Inverter_Model_1)[T.PVP2000]                                -1.103e+04   2377.348     -4.639      0.000     -1.57e+04 -6367.741\n",
      "C(Inverter_Model_1)[T.SB3000US (240V)]                        -1.104e+04   2996.569     -3.686      0.000     -1.69e+04 -5167.801\n",
      "C(Inverter_Model_1)[T.SB4000US (240V)]                        -2.052e+04   3002.503     -6.836      0.000     -2.64e+04 -1.46e+04\n",
      "C(Inverter_Model_1)[T.SE 10000A-US (240V)]                     1711.4184   2130.265      0.803      0.422     -2465.882  5888.719\n",
      "C(Inverter_Model_1)[T.SE 11400A-US (240V)]                     3841.1707   3021.294      1.271      0.204     -2083.376  9765.717\n",
      "C(Inverter_Model_1)[T.SE 7600A-US (240V)]                       879.8083   1660.940      0.530      0.596     -2377.179  4136.795\n",
      "C(Inverter_Model_1)[T.SE3000 (240V) w/ -ER-US or A-US]         1035.0636   1909.215      0.542      0.588     -2708.773  4778.900\n",
      "C(Inverter_Model_1)[T.SE3000 (240V) w/ -ER-US or A-US (240V)]   131.6406   1517.997      0.087      0.931     -2845.044  3108.325\n",
      "C(Inverter_Model_1)[T.SE3000A-US (240)]                         -72.4841   2994.987     -0.024      0.981     -5945.444  5800.476\n",
      "C(Inverter_Model_1)[T.SE3300 (240V) w/ -ER-US or A-US (240V)]   -18.5916   2993.920     -0.006      0.995     -5889.458  5852.275\n",
      "C(Inverter_Model_1)[T.SE3800 (240V) w/ -ER-US or A-US]          103.1148   1776.531      0.058      0.954     -3380.538  3586.768\n",
      "C(Inverter_Model_1)[T.SE3800 (240V) w/ -ER-US or A-US (240V)]    97.5731   1540.016      0.063      0.949     -2922.290  3117.436\n",
      "C(Inverter_Model_1)[T.SE5000 (240V) w/ -ER-US or A-US]        -4767.0904   2024.360     -2.355      0.019     -8736.718  -797.462\n",
      "C(Inverter_Model_1)[T.SE5000 (240V) w/ -ER-US or A-US (240V)]   -46.0779   1535.830     -0.030      0.976     -3057.734  2965.578\n",
      "C(Inverter_Model_1)[T.SE6000 (240V) w/ -ER-US or A-US]         1135.3986   2136.507      0.531      0.595     -3054.142  5324.939\n",
      "C(Inverter_Model_1)[T.SE6000 (240V) w/ -ER-US or A-US (240V)]   443.2337   1547.961      0.286      0.775     -2592.209  3478.677\n",
      "C(Inverter_Model_1)[T.SE7600 (240V)]                           -653.6538   1602.497     -0.408      0.683     -3796.039  2488.731\n",
      "System_Size_DC                                                 5379.7425    108.377     49.639      0.000      5167.222  5592.263\n",
      "System_Size_DC_Sqr                                              -27.3220      6.141     -4.449      0.000       -39.364   -15.280\n",
      "Module_Quantity_1                                                94.4451     11.676      8.089      0.000        71.549   117.341\n",
      "==============================================================================\n",
      "Omnibus:                     1222.620   Durbin-Watson:                   2.048\n",
      "Prob(Omnibus):                  0.000   Jarque-Bera (JB):          2269448.741\n",
      "Skew:                          -0.606   Prob(JB):                         0.00\n",
      "Kurtosis:                     149.808   Cond. No.                     1.15e+04\n",
      "==============================================================================\n",
      "\n",
      "Warnings:\n",
      "[1] Standard Errors assume that the covariance matrix of the errors is correctly specified.\n",
      "[2] The condition number is large, 1.15e+04. This might indicate that there are\n",
      "strong multicollinearity or other numerical problems.\n"
     ]
    }
   ],
   "source": [
    "#model for System cost, drop outliers\n",
    "ss_rec260pe_df_ols['System_Size_DC_Sqr'] = ss_rec260pe_df_ols['System_Size_DC'] * ss_rec260pe_df_ols['System_Size_DC']\n",
    "ss_rec260pe_df_ols['Big_Project'] = np.sign(ss_rec260pe_df_ols['Total_System_Cost'] - 180000)\n",
    "res = sm.ols(formula=\"Total_System_Cost~System_Size_DC+System_Size_DC_Sqr+Module_Quantity_1+C(Utility)+C(Inverter_Model_1)\", \\\n",
    "             data=ss_rec260pe_df_ols[ss_rec260pe_df_ols['Total_System_Cost'] < 180000]).fit()\n",
    "#model for outliers, not used, not enough data\n",
    "#res = sm.ols(formula=\"Total_System_Cost~System_Size_DC+System_Size_DC_Sqr+Module_Quantity_1+C(Utility)\", \\\n",
    "#             data=ss_rec260pe_df_ols[ss_rec260pe_df_ols['Total_System_Cost'] >= 180000]).fit()\n",
    "print(res.summary())"
   ]
  },
  {
   "cell_type": "code",
   "execution_count": null,
   "metadata": {
    "collapsed": false
   },
   "outputs": [],
   "source": [
    "#graph predictions\n",
    "predictions = res.predict(ss_rec260pe_df_ols[ss_rec260pe_df_ols['Total_System_Cost'] < 180000])\n",
    "ss_rec260pe_df_ols[ss_rec260pe_df_ols['Total_System_Cost'] < 180000]['Total_System_Cost_Est'] = predictions\n",
    "ss_rec260pe_df_ols[['Total_System_Cost_Est', 'Total_System_Cost']][ss_rec260pe_df_ols['Total_System_Cost'] < 180000].plot()"
   ]
  },
  {
   "cell_type": "code",
   "execution_count": 13,
   "metadata": {
    "collapsed": false
   },
   "outputs": [
    {
     "name": "stdout",
     "output_type": "stream",
     "text": [
      "                            OLS Regression Results                            \n",
      "==============================================================================\n",
      "Dep. Variable:         System_Size_DC   R-squared:                       0.832\n",
      "Model:                            OLS   Adj. R-squared:                  0.828\n",
      "Method:                 Least Squares   F-statistic:                     184.8\n",
      "Date:                Mon, 04 Apr 2016   Prob (F-statistic):               0.00\n",
      "Time:                        08:57:49   Log-Likelihood:                -3414.6\n",
      "No. Observations:                2527   AIC:                             6963.\n",
      "Df Residuals:                    2460   BIC:                             7354.\n",
      "Df Model:                          66                                         \n",
      "Covariance Type:            nonrobust                                         \n",
      "=====================================================================================================================================\n",
      "                                                                        coef    std err          t      P>|t|      [95.0% Conf. Int.]\n",
      "-------------------------------------------------------------------------------------------------------------------------------------\n",
      "Intercept                                                             1.0477      0.549      1.908      0.056        -0.029     2.124\n",
      "C(Inverter_Model_1_Cat)[T.Fronius Primo 3.8-1 @ 240 VAC]             -1.9478      0.725     -2.687      0.007        -3.370    -0.526\n",
      "C(Inverter_Model_1_Cat)[T.Fronius Primo 3.8-1 @ 240 VAC (240V)]       0.0967      0.548      0.176      0.860        -0.978     1.171\n",
      "C(Inverter_Model_1_Cat)[T.Fronius Primo 5.0-1 @ 240 VAC]             -1.2102      0.672     -1.801      0.072        -2.528     0.107\n",
      "C(Inverter_Model_1_Cat)[T.Fronius Primo 5.0-1 @ 240 VAC (240V)]       0.8708      0.551      1.580      0.114        -0.210     1.952\n",
      "C(Inverter_Model_1_Cat)[T.Fronius Primo 6.0-1 @ 208 VAC (208V)]       1.2413      1.094      1.134      0.257        -0.904     3.387\n",
      "C(Inverter_Model_1_Cat)[T.Fronius Primo 6.0-1 @ 240 VAC]            -10.0993      1.116     -9.049      0.000       -12.288    -7.911\n",
      "C(Inverter_Model_1_Cat)[T.Fronius Primo 6.0-1 @ 240 VAC (240V)]       1.3045      0.554      2.356      0.019         0.219     2.390\n",
      "C(Inverter_Model_1_Cat)[T.Fronius Primo 7.6-1 @ 240 VAC]              1.0799      0.673      1.606      0.109        -0.239     2.399\n",
      "C(Inverter_Model_1_Cat)[T.Fronius Primo 7.6-1 @ 240 VAC (240V)]       1.8234      0.556      3.281      0.001         0.734     2.913\n",
      "C(Inverter_Model_1_Cat)[T.Fronius Primo 8.2-1 @ 240 VAC (240V)]       2.8309      0.599      4.725      0.000         1.656     4.006\n",
      "C(Inverter_Model_1_Cat)[T.IG Plus 10.0-240]                           2.9619      1.107      2.675      0.008         0.791     5.133\n",
      "C(Inverter_Model_1_Cat)[T.IG Plus 10.0-240 (240V)]                    3.4211      1.098      3.117      0.002         1.269     5.574\n",
      "C(Inverter_Model_1_Cat)[T.IG Plus 11.4-240 (240V)]                    3.7844      1.099      3.445      0.001         1.630     5.939\n",
      "C(Inverter_Model_1_Cat)[T.IG Plus 7.5-240 (240V)]                     5.6192      1.105      5.085      0.000         3.452     7.786\n",
      "C(Inverter_Model_1_Cat)[T.IG Plus A 10.0-240]                        -3.6724      1.109     -3.312      0.001        -5.847    -1.498\n",
      "C(Inverter_Model_1_Cat)[T.IG Plus A 10.0-240 (240V)]                  3.4998      0.677      5.173      0.000         2.173     4.827\n",
      "C(Inverter_Model_1_Cat)[T.IG Plus A 11.4-240 (240V)]                  3.5270      0.677      5.212      0.000         2.200     4.854\n",
      "C(Inverter_Model_1_Cat)[T.IG Plus A 7.5-240]                          3.5922      1.096      3.278      0.001         1.443     5.741\n",
      "C(Inverter_Model_1_Cat)[T.IG Plus A 7.5-240 (240V)]                   1.2413      0.865      1.434      0.152        -0.456     2.938\n",
      "C(Inverter_Model_1_Cat)[T.IG Plus V 3.0-240]                          2.6362      1.094      2.410      0.016         0.491     4.781\n",
      "C(Inverter_Model_1_Cat)[T.M215-60-2LL-S2x]                            0.2815      1.112      0.253      0.800        -1.899     2.462\n",
      "C(Inverter_Model_1_Cat)[T.MICRO-0.3-I-OUTD-US-240 (240V)]            -0.6661      1.094     -0.609      0.543        -2.811     1.479\n",
      "C(Inverter_Model_1_Cat)[T.PVI 3.0 OUTD-S-US-Z-M (240V)]               0.1006      0.692      0.145      0.884        -1.256     1.457\n",
      "C(Inverter_Model_1_Cat)[T.PVI 3.0 OUTD-S-US-Z-M-A (240V)]            -0.1022      0.578     -0.177      0.860        -1.235     1.030\n",
      "C(Inverter_Model_1_Cat)[T.PVI 3.6 OUTD-S-US-Z-M-A (240V)]             0.5450      0.670      0.813      0.416        -0.769     1.859\n",
      "C(Inverter_Model_1_Cat)[T.PVI 4.2 OUTD-S-US-Z-M (240V)]               0.4239      1.094      0.388      0.698        -1.721     2.569\n",
      "C(Inverter_Model_1_Cat)[T.PVI 4.2 OUTD-S-US-Z-M-A (240V)]             0.6055      0.654      0.926      0.354        -0.677     1.888\n",
      "C(Inverter_Model_1_Cat)[T.PVI 5000 OUTD-US-Z-M-A (240V)]              0.8780      0.724      1.213      0.225        -0.541     2.297\n",
      "C(Inverter_Model_1_Cat)[T.PVI 6000 OUTD-US-Z-M-A (240V)]              1.0596      1.094      0.968      0.333        -1.086     3.205\n",
      "C(Inverter_Model_1_Cat)[T.PVI-3.0-OUTD-S-US (240V)]                   4.7888      1.094      4.378      0.000         2.644     6.934\n",
      "C(Inverter_Model_1_Cat)[T.PVI-3.0-OUTD-S-US-A (240V)]                -0.3028      0.865     -0.350      0.726        -1.998     1.393\n",
      "C(Inverter_Model_1_Cat)[T.PVI-3.0-OUTD-S-US-Z-A (240V)]              -0.1732      0.549     -0.316      0.752        -1.250     0.903\n",
      "C(Inverter_Model_1_Cat)[T.PVI-3.6-OUTD-S-US (240 V)]                  1.3104      0.773      1.694      0.090        -0.206     2.827\n",
      "C(Inverter_Model_1_Cat)[T.PVI-3.6-OUTD-S-US-Z-A (240V)]               0.4653      0.551      0.844      0.399        -0.616     1.546\n",
      "C(Inverter_Model_1_Cat)[T.PVI-3.6-OUTD-US (240 V)]                   -3.6095      1.105     -3.267      0.001        -5.776    -1.443\n",
      "C(Inverter_Model_1_Cat)[T.PVI-3.8-OUTD-S-US-Z-A (240V)]               0.6055      1.094      0.554      0.580        -1.539     2.750\n",
      "C(Inverter_Model_1_Cat)[T.PVI-4.2-OUTD-S-US (240V)]                   0.6055      1.094      0.554      0.580        -1.539     2.750\n",
      "C(Inverter_Model_1_Cat)[T.PVI-4.2-OUTD-S-US-Z (240V)]                 0.4239      1.094      0.388      0.698        -1.721     2.569\n",
      "C(Inverter_Model_1_Cat)[T.PVI-4.2-OUTD-S-US-Z-A (240V)]               0.6577      0.556      1.184      0.237        -0.432     1.747\n",
      "C(Inverter_Model_1_Cat)[T.PVI-5000-OUTD-S-US-Z-A (240 V)]            -1.3978      1.096     -1.276      0.202        -3.546     0.751\n",
      "C(Inverter_Model_1_Cat)[T.PVI-5000-OUTD-S-US-Z-A (240V)]              1.1341      0.574      1.977      0.048         0.009     2.259\n",
      "C(Inverter_Model_1_Cat)[T.PVI-5000-OUTD-US (208V)]                   -2.4606      1.096     -2.245      0.025        -4.610    -0.311\n",
      "C(Inverter_Model_1_Cat)[T.PVI-5000-OUTD-US (240V)]                   -1.2110      1.094     -1.107      0.269        -3.357     0.935\n",
      "C(Inverter_Model_1_Cat)[T.PVI-5000-OUTD-US-Z-A (240V)]                0.5930      0.556      1.066      0.286        -0.498     1.684\n",
      "C(Inverter_Model_1_Cat)[T.PVI-6000-OUTD-S-US-Z-A (240V)]              1.3881      0.565      2.456      0.014         0.280     2.497\n",
      "C(Inverter_Model_1_Cat)[T.PVI-6000-OUTD-US (240V)]                   -2.6901      1.098     -2.450      0.014        -4.843    -0.537\n",
      "C(Inverter_Model_1_Cat)[T.PVI-6000-OUTD-US-Z-A (240V)]                0.5596      0.560      0.999      0.318        -0.539     1.658\n",
      "C(Inverter_Model_1_Cat)[T.PVP2000]                                    3.4260      0.865      3.959      0.000         1.729     5.123\n",
      "C(Inverter_Model_1_Cat)[T.SB3000US (240V)]                            1.8072      1.094      1.652      0.099        -0.338     3.952\n",
      "C(Inverter_Model_1_Cat)[T.SB4000US (240V)]                            3.3808      1.094      3.091      0.002         1.236     5.526\n",
      "C(Inverter_Model_1_Cat)[T.SE 10000A-US (240V)]                        2.5431      0.776      3.275      0.001         1.020     4.066\n",
      "C(Inverter_Model_1_Cat)[T.SE 11400A-US (240V)]                        4.0569      1.099      3.690      0.000         1.901     6.213\n",
      "C(Inverter_Model_1_Cat)[T.SE 7600A-US (240V)]                         1.6141      0.605      2.669      0.008         0.428     2.800\n",
      "C(Inverter_Model_1_Cat)[T.SE3000 (240V) w/ -ER-US or A-US]           -1.1192      0.692     -1.618      0.106        -2.476     0.237\n",
      "C(Inverter_Model_1_Cat)[T.SE3000 (240V) w/ -ER-US or A-US (240V)]    -0.2586      0.554     -0.466      0.641        -1.346     0.829\n",
      "C(Inverter_Model_1_Cat)[T.SE3000A-US (240)]                          -0.4844      1.094     -0.443      0.658        -2.629     1.660\n",
      "C(Inverter_Model_1_Cat)[T.SE3300 (240V) w/ -ER-US or A-US (240V)]    -0.0303      1.094     -0.028      0.978        -2.175     2.114\n",
      "C(Inverter_Model_1_Cat)[T.SE3800 (240V) w/ -ER-US or A-US]           -0.2065      0.642     -0.322      0.748        -1.465     1.052\n",
      "C(Inverter_Model_1_Cat)[T.SE3800 (240V) w/ -ER-US or A-US (240V)]     0.2614      0.562      0.465      0.642        -0.842     1.364\n",
      "C(Inverter_Model_1_Cat)[T.SE5000 (240V) w/ -ER-US or A-US]            3.7565      0.723      5.193      0.000         2.338     5.175\n",
      "C(Inverter_Model_1_Cat)[T.SE5000 (240V) w/ -ER-US or A-US (240V)]     0.7373      0.560      1.316      0.188        -0.361     1.836\n",
      "C(Inverter_Model_1_Cat)[T.SE6000 (240V) w/ -ER-US or A-US]           -0.4409      0.776     -0.568      0.570        -1.962     1.080\n",
      "C(Inverter_Model_1_Cat)[T.SE6000 (240V) w/ -ER-US or A-US (240V)]     1.1134      0.564      1.973      0.049         0.007     2.220\n",
      "C(Inverter_Model_1_Cat)[T.SE7600 (240V)]                              1.8534      0.584      3.176      0.002         0.709     2.998\n",
      "Module_Quantity_1                                                     0.1435      0.002     57.825      0.000         0.139     0.148\n",
      "Inverter_Quantity_1                                                   0.2541      0.040      6.305      0.000         0.175     0.333\n",
      "==============================================================================\n",
      "Omnibus:                      900.114   Durbin-Watson:                   1.786\n",
      "Prob(Omnibus):                  0.000   Jarque-Bera (JB):            72193.193\n",
      "Skew:                          -0.770   Prob(JB):                         0.00\n",
      "Kurtosis:                      29.140   Cond. No.                     5.74e+03\n",
      "==============================================================================\n",
      "\n",
      "Warnings:\n",
      "[1] Standard Errors assume that the covariance matrix of the errors is correctly specified.\n",
      "[2] The condition number is large, 5.74e+03. This might indicate that there are\n",
      "strong multicollinearity or other numerical problems.\n"
     ]
    }
   ],
   "source": [
    "#model for system size, drop outliers\n",
    "res = sm.ols(formula=\"System_Size_DC~Module_Quantity_1+C(Inverter_Model_1_Cat)+Inverter_Quantity_1\", \\\n",
    "             data=ss_rec260pe_df_ols[ss_rec260pe_df_ols['Total_System_Cost'] < 180000]).fit()\n",
    "print(res.summary())"
   ]
  },
  {
   "cell_type": "code",
   "execution_count": null,
   "metadata": {
    "collapsed": false
   },
   "outputs": [],
   "source": [
    "#look at correlations\n",
    "ss_rec260pe_df_ols.corr()"
   ]
  },
  {
   "cell_type": "code",
   "execution_count": null,
   "metadata": {
    "collapsed": false
   },
   "outputs": [],
   "source": [
    "#look at correlations\n",
    "ss_rec260pe_df.corr()"
   ]
  },
  {
   "cell_type": "code",
   "execution_count": 14,
   "metadata": {
    "collapsed": true
   },
   "outputs": [],
   "source": [
    "ss_rec260pe_df_ols_filtered = ss_rec260pe_df_ols[ss_rec260pe_df_ols['Total_System_Cost'] < 180000]"
   ]
  },
  {
   "cell_type": "code",
   "execution_count": 18,
   "metadata": {
    "collapsed": false
   },
   "outputs": [
    {
     "name": "stderr",
     "output_type": "stream",
     "text": [
      "/Users/wilfeli/anaconda/envs/datas/lib/python3.5/site-packages/ipykernel/__main__.py:1: SettingWithCopyWarning: \n",
      "A value is trying to be set on a copy of a slice from a DataFrame.\n",
      "Try using .loc[row_indexer,col_indexer] = value instead\n",
      "\n",
      "See the caveats in the documentation: http://pandas.pydata.org/pandas-docs/stable/indexing.html#indexing-view-versus-copy\n",
      "  if __name__ == '__main__':\n"
     ]
    }
   ],
   "source": [
    "ss_rec260pe_df_ols_filtered['Price_per_Watt'] = ss_rec260pe_df_ols_filtered['Total_System_Cost']/ss_rec260pe_df_ols_filtered['System_Size_DC']/1000"
   ]
  },
  {
   "cell_type": "code",
   "execution_count": 19,
   "metadata": {
    "collapsed": false
   },
   "outputs": [
    {
     "data": {
      "text/plain": [
       "<matplotlib.axes._subplots.AxesSubplot at 0x12150c390>"
      ]
     },
     "execution_count": 19,
     "metadata": {},
     "output_type": "execute_result"
    },
    {
     "data": {
      "image/png": "[encoded data removed]",
      "text/plain": [
       "<matplotlib.figure.Figure at 0x121507518>"
      ]
     },
     "metadata": {},
     "output_type": "display_data"
    }
   ],
   "source": [
    "ss_rec260pe_df_ols_filtered['Price_per_Watt'].hist()"
   ]
  },
  {
   "cell_type": "code",
   "execution_count": 20,
   "metadata": {
    "collapsed": false
   },
   "outputs": [
    {
     "data": {
      "text/html": [
       "<div>\n",
       "<table border=\"1\" class=\"dataframe\">\n",
       "  <thead>\n",
       "    <tr style=\"text-align: right;\">\n",
       "      <th></th>\n",
       "      <th>Total_System_Cost</th>\n",
       "      <th>System_Size_DC</th>\n",
       "      <th>System_Size_AC</th>\n",
       "      <th>Service_Zip</th>\n",
       "      <th>Inverter_Model_1</th>\n",
       "      <th>Module_Quantity_1</th>\n",
       "      <th>Inverter_Quantity_1</th>\n",
       "      <th>Tracking</th>\n",
       "      <th>Customer_Sector</th>\n",
       "      <th>Utility</th>\n",
       "      <th>Service_County</th>\n",
       "      <th>Service_City</th>\n",
       "      <th>Installer_Zip</th>\n",
       "      <th>Service_Zip_Cat</th>\n",
       "      <th>Inverter_Model_1_Cat</th>\n",
       "      <th>Tracking_Cat</th>\n",
       "      <th>Utility_Cat</th>\n",
       "      <th>System_Size_DC_Sqr</th>\n",
       "      <th>Big_Project</th>\n",
       "      <th>Price_per_Watt</th>\n",
       "    </tr>\n",
       "  </thead>\n",
       "  <tbody>\n",
       "    <tr>\n",
       "      <th>114907</th>\n",
       "      <td>21299.2</td>\n",
       "      <td>3.7488</td>\n",
       "      <td>3.598848</td>\n",
       "      <td>94503.0</td>\n",
       "      <td>PVI-3.0-OUTD-S-US-Z-A (240V)</td>\n",
       "      <td>16.0</td>\n",
       "      <td>1.0</td>\n",
       "      <td>Fixed</td>\n",
       "      <td>Residential</td>\n",
       "      <td>PGE</td>\n",
       "      <td>Napa</td>\n",
       "      <td>AMERICAN CANYON</td>\n",
       "      <td>89119.0</td>\n",
       "      <td>94503</td>\n",
       "      <td>PVI-3.0-OUTD-S-US-Z-A (240V)</td>\n",
       "      <td>Fixed</td>\n",
       "      <td>PGE</td>\n",
       "      <td>14.053501</td>\n",
       "      <td>-1.0</td>\n",
       "      <td>5.681605</td>\n",
       "    </tr>\n",
       "    <tr>\n",
       "      <th>114924</th>\n",
       "      <td>14643.2</td>\n",
       "      <td>2.5773</td>\n",
       "      <td>2.474208</td>\n",
       "      <td>93444.0</td>\n",
       "      <td>PVI-3.0-OUTD-S-US-Z-A (240V)</td>\n",
       "      <td>11.0</td>\n",
       "      <td>1.0</td>\n",
       "      <td>Fixed</td>\n",
       "      <td>Residential</td>\n",
       "      <td>PGE</td>\n",
       "      <td>San Luis Obispo</td>\n",
       "      <td>NIPOMO</td>\n",
       "      <td>89119.0</td>\n",
       "      <td>93444</td>\n",
       "      <td>PVI-3.0-OUTD-S-US-Z-A (240V)</td>\n",
       "      <td>Fixed</td>\n",
       "      <td>PGE</td>\n",
       "      <td>6.642475</td>\n",
       "      <td>-1.0</td>\n",
       "      <td>5.681605</td>\n",
       "    </tr>\n",
       "    <tr>\n",
       "      <th>115022</th>\n",
       "      <td>15974.4</td>\n",
       "      <td>2.8116</td>\n",
       "      <td>2.699136</td>\n",
       "      <td>93455.0</td>\n",
       "      <td>PVI-3.0-OUTD-S-US-Z-A (240V)</td>\n",
       "      <td>12.0</td>\n",
       "      <td>1.0</td>\n",
       "      <td>Fixed</td>\n",
       "      <td>Residential</td>\n",
       "      <td>PGE</td>\n",
       "      <td>Santa Barbara</td>\n",
       "      <td>SANTA MARIA</td>\n",
       "      <td>89119.0</td>\n",
       "      <td>93455</td>\n",
       "      <td>PVI-3.0-OUTD-S-US-Z-A (240V)</td>\n",
       "      <td>Fixed</td>\n",
       "      <td>PGE</td>\n",
       "      <td>7.905095</td>\n",
       "      <td>-1.0</td>\n",
       "      <td>5.681605</td>\n",
       "    </tr>\n",
       "    <tr>\n",
       "      <th>115027</th>\n",
       "      <td>14643.2</td>\n",
       "      <td>2.5773</td>\n",
       "      <td>2.474208</td>\n",
       "      <td>94952.0</td>\n",
       "      <td>PVI-3.0-OUTD-S-US-Z-A (240V)</td>\n",
       "      <td>11.0</td>\n",
       "      <td>1.0</td>\n",
       "      <td>Fixed</td>\n",
       "      <td>Residential</td>\n",
       "      <td>PGE</td>\n",
       "      <td>Sonoma</td>\n",
       "      <td>PETALUMA</td>\n",
       "      <td>89119.0</td>\n",
       "      <td>94952</td>\n",
       "      <td>PVI-3.0-OUTD-S-US-Z-A (240V)</td>\n",
       "      <td>Fixed</td>\n",
       "      <td>PGE</td>\n",
       "      <td>6.642475</td>\n",
       "      <td>-1.0</td>\n",
       "      <td>5.681605</td>\n",
       "    </tr>\n",
       "    <tr>\n",
       "      <th>115029</th>\n",
       "      <td>11980.8</td>\n",
       "      <td>2.1087</td>\n",
       "      <td>2.024352</td>\n",
       "      <td>94559.0</td>\n",
       "      <td>PVI-3.0-OUTD-S-US-Z-A (240V)</td>\n",
       "      <td>9.0</td>\n",
       "      <td>1.0</td>\n",
       "      <td>Fixed</td>\n",
       "      <td>Residential</td>\n",
       "      <td>PGE</td>\n",
       "      <td>Napa</td>\n",
       "      <td>NAPA</td>\n",
       "      <td>89119.0</td>\n",
       "      <td>94559</td>\n",
       "      <td>PVI-3.0-OUTD-S-US-Z-A (240V)</td>\n",
       "      <td>Fixed</td>\n",
       "      <td>PGE</td>\n",
       "      <td>4.446616</td>\n",
       "      <td>-1.0</td>\n",
       "      <td>5.681605</td>\n",
       "    </tr>\n",
       "  </tbody>\n",
       "</table>\n",
       "</div>"
      ],
      "text/plain": [
       "        Total_System_Cost  System_Size_DC  System_Size_AC  Service_Zip  \\\n",
       "114907            21299.2          3.7488        3.598848      94503.0   \n",
       "114924            14643.2          2.5773        2.474208      93444.0   \n",
       "115022            15974.4          2.8116        2.699136      93455.0   \n",
       "115027            14643.2          2.5773        2.474208      94952.0   \n",
       "115029            11980.8          2.1087        2.024352      94559.0   \n",
       "\n",
       "                    Inverter_Model_1  Module_Quantity_1  Inverter_Quantity_1  \\\n",
       "114907  PVI-3.0-OUTD-S-US-Z-A (240V)               16.0                  1.0   \n",
       "114924  PVI-3.0-OUTD-S-US-Z-A (240V)               11.0                  1.0   \n",
       "115022  PVI-3.0-OUTD-S-US-Z-A (240V)               12.0                  1.0   \n",
       "115027  PVI-3.0-OUTD-S-US-Z-A (240V)               11.0                  1.0   \n",
       "115029  PVI-3.0-OUTD-S-US-Z-A (240V)                9.0                  1.0   \n",
       "\n",
       "       Tracking Customer_Sector Utility   Service_County     Service_City  \\\n",
       "114907    Fixed     Residential     PGE             Napa  AMERICAN CANYON   \n",
       "114924    Fixed     Residential     PGE  San Luis Obispo           NIPOMO   \n",
       "115022    Fixed     Residential     PGE    Santa Barbara      SANTA MARIA   \n",
       "115027    Fixed     Residential     PGE           Sonoma         PETALUMA   \n",
       "115029    Fixed     Residential     PGE             Napa             NAPA   \n",
       "\n",
       "        Installer_Zip Service_Zip_Cat          Inverter_Model_1_Cat  \\\n",
       "114907        89119.0           94503  PVI-3.0-OUTD-S-US-Z-A (240V)   \n",
       "114924        89119.0           93444  PVI-3.0-OUTD-S-US-Z-A (240V)   \n",
       "115022        89119.0           93455  PVI-3.0-OUTD-S-US-Z-A (240V)   \n",
       "115027        89119.0           94952  PVI-3.0-OUTD-S-US-Z-A (240V)   \n",
       "115029        89119.0           94559  PVI-3.0-OUTD-S-US-Z-A (240V)   \n",
       "\n",
       "       Tracking_Cat Utility_Cat  System_Size_DC_Sqr  Big_Project  \\\n",
       "114907        Fixed         PGE           14.053501         -1.0   \n",
       "114924        Fixed         PGE            6.642475         -1.0   \n",
       "115022        Fixed         PGE            7.905095         -1.0   \n",
       "115027        Fixed         PGE            6.642475         -1.0   \n",
       "115029        Fixed         PGE            4.446616         -1.0   \n",
       "\n",
       "        Price_per_Watt  \n",
       "114907        5.681605  \n",
       "114924        5.681605  \n",
       "115022        5.681605  \n",
       "115027        5.681605  \n",
       "115029        5.681605  "
      ]
     },
     "execution_count": 20,
     "metadata": {},
     "output_type": "execute_result"
    }
   ],
   "source": [
    "ss_rec260pe_df_ols_filtered.head()"
   ]
  },
  {
   "cell_type": "code",
   "execution_count": null,
   "metadata": {
    "collapsed": true
   },
   "outputs": [],
   "source": []
  }
 ],
 "metadata": {
  "kernelspec": {
   "display_name": "Python 3",
   "language": "python",
   "name": "python3"
  },
  "language_info": {
   "codemirror_mode": {
    "name": "ipython",
    "version": 3
   },
   "file_extension": ".py",
   "mimetype": "text/x-python",
   "name": "python",
   "nbconvert_exporter": "python",
   "pygments_lexer": "ipython3",
   "version": "3.5.1"
  }
 },
 "nbformat": 4,
 "nbformat_minor": 0
}
